{
 "cells": [
  {
   "cell_type": "code",
   "execution_count": 106,
   "metadata": {},
   "outputs": [],
   "source": [
    "import numpy as np\n",
    "import matplotlib.pyplot as plt\n",
    "%matplotlib inline\n",
    "from scipy.interpolate import UnivariateSpline\n",
    "from scipy.optimize import minimize\n",
    "from scipy.optimize import minimize_scalar\n",
    "from scipy.stats import beta\n",
    "import timeit\n",
    "from scipy.interpolate import interp1d\n",
    "import scipy.stats as st\n",
    "from scipy.stats import wasserstein_distance\n",
    "import csv\n",
    "import pandas as pd"
   ]
  },
  {
   "cell_type": "markdown",
   "metadata": {},
   "source": [
    "# The true distribution\n",
    "We take the true distribution of $y$ to be $\\mathcal{Beta}(3,3)$ drawn on $[-1,1]$. i.e. we have unormalized density\n",
    "<br>\n",
    "<center> $(1+y)^2(1-y)^2$\n",
    "\n",
    "We seek to find $x^*$ such that it solves $\\min_x E[c(x,y)]$ where\n",
    "<br>\n",
    "<center>$c(x,y) = 3x^2 + 6xy^2 - 2x^2y - 7xy$.\n",
    "\n",
    "This can be solved analytically, whereby $x$ is minimised at $-1/7$ = -0.14286."
   ]
  },
  {
   "cell_type": "code",
   "execution_count": 2,
   "metadata": {},
   "outputs": [
    {
     "data": {
      "text/plain": [
       "Text(0.5,1,'True Distribution of Y')"
      ]
     },
     "execution_count": 2,
     "metadata": {},
     "output_type": "execute_result"
    },
    {
     "data": {
      "image/png": "[encoded data removed]",
      "text/plain": [
       "<Figure size 432x288 with 1 Axes>"
      ]
     },
     "metadata": {},
     "output_type": "display_data"
    }
   ],
   "source": [
    "# Define the true distribution\n",
    "Y = beta(a = 3,b=3,loc=-1,scale=2)\n",
    "\n",
    "# plot the pdf within the range\n",
    "x = np.arange (-1, 1, 0.01)\n",
    "z = Y.pdf(x)\n",
    "plt.plot(x,z)\n",
    "plt.title(\"True Distribution of Y\")"
   ]
  },
  {
   "cell_type": "code",
   "execution_count": 3,
   "metadata": {},
   "outputs": [],
   "source": [
    "# the cost function we would like to minimise/maximise\n",
    "def f(x,y, weights=None,find_mean=True):\n",
    "    function = 3*x**2 + 6*x*y**2 - 2*x**2*y - 7*x*y\n",
    "    if find_mean:\n",
    "        if weights is not None:\n",
    "            return np.average(function,axis=0,weights=weights)\n",
    "        else:\n",
    "            return np.mean(function,axis=0)\n",
    "    else:\n",
    "        return function"
   ]
  },
  {
   "cell_type": "code",
   "execution_count": 4,
   "metadata": {},
   "outputs": [],
   "source": [
    "# the cost function we would like to minimise/maximise\n",
    "def f_convex(x,y, weights=None,find_mean=True):\n",
    "    function = 3*x**2 + 6*x*y**2 - 2*x**2*y - 7*x*y -5*x\n",
    "    if find_mean:\n",
    "        if weights is not None:\n",
    "            return np.average(function,axis=0,weights=weights)\n",
    "        else:\n",
    "            return np.mean(function,axis=0)\n",
    "    else:\n",
    "        return function"
   ]
  },
  {
   "cell_type": "code",
   "execution_count": 5,
   "metadata": {},
   "outputs": [],
   "source": [
    "def df_dy(x,y):\n",
    "    return 12*x*y - 2*x**2 - 7*x"
   ]
  },
  {
   "cell_type": "code",
   "execution_count": 6,
   "metadata": {},
   "outputs": [],
   "source": [
    "def SAA_minimise(samples, func, p0=0.0):\n",
    "    res = minimize(func,p0,args=(samples))\n",
    "    return res.x"
   ]
  },
  {
   "cell_type": "code",
   "execution_count": 7,
   "metadata": {},
   "outputs": [],
   "source": [
    "def f_maximise(y,x):\n",
    "    function = 3*x**2 + 6*x*y**2 - 2*x**2*y - 7*x*y\n",
    "    return -np.mean(function,axis=0)"
   ]
  },
  {
   "cell_type": "code",
   "execution_count": 15,
   "metadata": {},
   "outputs": [],
   "source": [
    "def f_convex_maximise(y,x):\n",
    "    function = 3*x**2 + 6*x*y**2 - 2*x**2*y - 7*x*y - 5*x\n",
    "    return -np.mean(function,axis=0)"
   ]
  },
  {
   "cell_type": "code",
   "execution_count": 8,
   "metadata": {},
   "outputs": [],
   "source": [
    "def wasserstein_constraint(Sx,Sy,delta):\n",
    "    distance = wasserstein_distance(Sx,Sy)\n",
    "    return  delta-distance"
   ]
  },
  {
   "cell_type": "code",
   "execution_count": 25,
   "metadata": {},
   "outputs": [],
   "source": [
    "def wasserstein_robustification(y,x_star,func,constraint,bound):\n",
    "    res = minimize(func,y,args=(x_star),constraints=constraint,bounds=bound)\n",
    "    return res.x"
   ]
  },
  {
   "cell_type": "code",
   "execution_count": 31,
   "metadata": {},
   "outputs": [],
   "source": [
    "def plot_sample_change(x_star,Sy,new_y,func):\n",
    "    \n",
    "    # get a plot of the cost function\n",
    "    temp_y = np.linspace(np.min(Sy),np.max(Sy),500)\n",
    "    full_cost = func(x_star,temp_y,find_mean=False)\n",
    "    \n",
    "    # get cost of samples\n",
    "    sub_cost = func(x_star,Sy,find_mean=False)\n",
    "    # cost of changed samples\n",
    "    altered = func(x_star,new_y,find_mean=False)\n",
    "    \n",
    "    # check which samples have changed\n",
    "    changed_index = np.isclose(Sy,new_y,atol=1e-2) == False\n",
    "    \n",
    "    changed_samples = new_y[changed_index]\n",
    "    changed_cost = func(x_star,changed_samples,find_mean=False)\n",
    "    original_samples = Sy[changed_index]\n",
    "    original_cost = sub_cost[changed_index]\n",
    "    \n",
    "    # plot the hraph\n",
    "    plt.figure(figsize=(10,8))\n",
    "    plt.plot(temp_y,full_cost,label='cost function')\n",
    "    plt.plot(Sy,sub_cost,'o',label='samples')\n",
    "\n",
    "    plt.plot(changed_samples,original_cost,'o',label='altered samples')\n",
    "    for i in range(len(changed_cost)):\n",
    "        plt.arrow(original_samples[i],\n",
    "                  original_cost[i],\n",
    "                  (changed_samples[i]-original_samples[i])*0.7,\n",
    "                  0,head_width=0.02,length_includes_head=False)\n",
    "    plt.legend()"
   ]
  },
  {
   "cell_type": "markdown",
   "metadata": {},
   "source": [
    "# Initial test"
   ]
  },
  {
   "cell_type": "code",
   "execution_count": 73,
   "metadata": {},
   "outputs": [],
   "source": [
    "Sy = Y.rvs(100)\n",
    "Sy = np.sort(Sy)"
   ]
  },
  {
   "cell_type": "code",
   "execution_count": 74,
   "metadata": {},
   "outputs": [],
   "source": [
    "x_star = SAA_minimise(Sy,f)"
   ]
  },
  {
   "cell_type": "code",
   "execution_count": 75,
   "metadata": {},
   "outputs": [],
   "source": [
    "#temp = minimize(f_maximise,Sy,args=(x_star),constraints={'type':'eq','fun':wasserstein_constraint,'args':[Sy,0.01]})\n",
    "delta = 0.01\n",
    "constraint = {'type':'ineq','fun':wasserstein_constraint,'args':[Sy,delta]}\n",
    "bound = [(-1,1)]*len(Sy)\n",
    "new_y = wasserstein_robustification(Sy,x_star,f_maximise,constraint,bound)"
   ]
  },
  {
   "cell_type": "code",
   "execution_count": 76,
   "metadata": {},
   "outputs": [
    {
     "data": {
      "image/png": "[encoded data removed]",
      "text/plain": [
       "<Figure size 720x576 with 1 Axes>"
      ]
     },
     "metadata": {},
     "output_type": "display_data"
    }
   ],
   "source": [
    "plot_sample_change(x_star,Sy,new_y,f)"
   ]
  },
  {
   "cell_type": "markdown",
   "metadata": {},
   "source": [
    "# second cost function"
   ]
  },
  {
   "cell_type": "markdown",
   "metadata": {},
   "source": [
    "This still needs to be fixed."
   ]
  },
  {
   "cell_type": "code",
   "execution_count": 41,
   "metadata": {},
   "outputs": [
    {
     "data": {
      "image/png": "[encoded data removed]",
      "text/plain": [
       "<Figure size 720x576 with 1 Axes>"
      ]
     },
     "metadata": {},
     "output_type": "display_data"
    }
   ],
   "source": [
    "#temp = minimize(f_maximise,Sy,args=(x_star),constraints={'type':'eq','fun':wasserstein_constraint,'args':[Sy,0.01]})\n",
    "delta = 0.00000001\n",
    "x_star = SAA_minimise(Sy,f_convex)\n",
    "bound = [(-1,1)]*len(Sy)\n",
    "constraint = {'type':'ineq','fun':wasserstein_constraint,'args':[Sy,delta]}\n",
    "new_y = wasserstein_robustification(Sy,x_star,f_convex_maximise,constraint,bound)\n",
    "plot_sample_change(x_star,Sy,new_y,f_convex)"
   ]
  },
  {
   "cell_type": "code",
   "execution_count": 99,
   "metadata": {},
   "outputs": [],
   "source": [
    "# Some experimental hyper parameters\n",
    "\n",
    "# number of iterations to perform each experiment\n",
    "n_iter = 100\n",
    "\n",
    "# number of samples for each experiment\n",
    "N = 10\n",
    "\n",
    "delta = [0.01,0.015,0.02]"
   ]
  },
  {
   "cell_type": "code",
   "execution_count": 114,
   "metadata": {},
   "outputs": [],
   "source": [
    "#%%time\n",
    "# SAA_results = np.zeros((n_iter,len(N)))\n",
    "# wasserstein_results = np.zeros((n_iter,len(N),len(delta)))\n",
    "\n",
    "#start_time = timeit.default_timer()\n",
    "\n",
    "with open('wasser_N10.csv', 'w') as csvfile:\n",
    "    delta = [0.01,0.015,0.02]\n",
    "    writer = csv.writer(csvfile, delimiter=',')\n",
    "    writer.writerow(['SAA'] + delta)\n",
    "    # define the bounds\n",
    "    bound = [(-1,1)]*N\n",
    "    for k in range(n_iter):\n",
    "        # obtain the samples\n",
    "        S = Y.rvs(N)\n",
    "        S = np.sort(S)\n",
    "        # obtain result for SAA\n",
    "        x_star = SAA_minimise(S,f)\n",
    "        # perform robustification for different delta\n",
    "        wasser_results = []\n",
    "        for i in range(len(delta)):\n",
    "            constraint = {'type':'ineq','fun':wasserstein_constraint,'args':[S,delta[i]]}\n",
    "            new_S = wasserstein_robustification(S,x_star,f_maximise,constraint,bound)\n",
    "            temp = SAA_minimise(new_S,f)\n",
    "            wasser_results += [float(temp)]\n",
    "        #result_list = [float(x_star)] + \n",
    "        writer.writerow([float(x_star)] + wasser_results)"
   ]
  },
  {
   "cell_type": "code",
   "execution_count": 115,
   "metadata": {},
   "outputs": [
    {
     "data": {
      "text/plain": [
       "[-0.21639099018477997, -0.20506616948184153, -0.19391560766115523]"
      ]
     },
     "execution_count": 115,
     "metadata": {},
     "output_type": "execute_result"
    }
   ],
   "source": [
    "wasser_results"
   ]
  },
  {
   "cell_type": "code",
   "execution_count": 116,
   "metadata": {},
   "outputs": [
    {
     "data": {
      "text/html": [
       "<div>\n",
       "<style scoped>\n",
       "    .dataframe tbody tr th:only-of-type {\n",
       "        vertical-align: middle;\n",
       "    }\n",
       "\n",
       "    .dataframe tbody tr th {\n",
       "        vertical-align: top;\n",
       "    }\n",
       "\n",
       "    .dataframe thead th {\n",
       "        text-align: right;\n",
       "    }\n",
       "</style>\n",
       "<table border=\"1\" class=\"dataframe\">\n",
       "  <thead>\n",
       "    <tr style=\"text-align: right;\">\n",
       "      <th></th>\n",
       "      <th>SAA</th>\n",
       "      <th>0.01</th>\n",
       "      <th>0.015</th>\n",
       "      <th>0.02</th>\n",
       "    </tr>\n",
       "  </thead>\n",
       "  <tbody>\n",
       "    <tr>\n",
       "      <th>0</th>\n",
       "      <td>-0.188058</td>\n",
       "      <td>-0.165884</td>\n",
       "      <td>-0.155084</td>\n",
       "      <td>-0.144457</td>\n",
       "    </tr>\n",
       "    <tr>\n",
       "      <th>1</th>\n",
       "      <td>-0.052265</td>\n",
       "      <td>-0.030577</td>\n",
       "      <td>-0.020233</td>\n",
       "      <td>-0.010110</td>\n",
       "    </tr>\n",
       "    <tr>\n",
       "      <th>2</th>\n",
       "      <td>-0.099473</td>\n",
       "      <td>-0.081584</td>\n",
       "      <td>-0.072943</td>\n",
       "      <td>-0.064491</td>\n",
       "    </tr>\n",
       "    <tr>\n",
       "      <th>3</th>\n",
       "      <td>-0.328879</td>\n",
       "      <td>-0.307812</td>\n",
       "      <td>-0.297564</td>\n",
       "      <td>-0.287453</td>\n",
       "    </tr>\n",
       "    <tr>\n",
       "      <th>4</th>\n",
       "      <td>-0.112504</td>\n",
       "      <td>-0.092713</td>\n",
       "      <td>-0.083457</td>\n",
       "      <td>-0.074635</td>\n",
       "    </tr>\n",
       "    <tr>\n",
       "      <th>5</th>\n",
       "      <td>-0.297262</td>\n",
       "      <td>-0.273335</td>\n",
       "      <td>-0.261965</td>\n",
       "      <td>-0.250998</td>\n",
       "    </tr>\n",
       "    <tr>\n",
       "      <th>6</th>\n",
       "      <td>-0.076363</td>\n",
       "      <td>-0.051876</td>\n",
       "      <td>-0.040323</td>\n",
       "      <td>-0.029199</td>\n",
       "    </tr>\n",
       "    <tr>\n",
       "      <th>7</th>\n",
       "      <td>-0.079841</td>\n",
       "      <td>-0.059237</td>\n",
       "      <td>-0.049511</td>\n",
       "      <td>-0.039988</td>\n",
       "    </tr>\n",
       "    <tr>\n",
       "      <th>8</th>\n",
       "      <td>0.063867</td>\n",
       "      <td>0.012218</td>\n",
       "      <td>0.029290</td>\n",
       "      <td>0.016773</td>\n",
       "    </tr>\n",
       "    <tr>\n",
       "      <th>9</th>\n",
       "      <td>-0.293709</td>\n",
       "      <td>-0.271770</td>\n",
       "      <td>-0.261073</td>\n",
       "      <td>-0.250551</td>\n",
       "    </tr>\n",
       "    <tr>\n",
       "      <th>10</th>\n",
       "      <td>-0.197713</td>\n",
       "      <td>-0.177333</td>\n",
       "      <td>-0.167452</td>\n",
       "      <td>-0.157753</td>\n",
       "    </tr>\n",
       "    <tr>\n",
       "      <th>11</th>\n",
       "      <td>-0.059437</td>\n",
       "      <td>-0.034868</td>\n",
       "      <td>-0.023260</td>\n",
       "      <td>-0.012102</td>\n",
       "    </tr>\n",
       "    <tr>\n",
       "      <th>12</th>\n",
       "      <td>-0.358121</td>\n",
       "      <td>-0.337158</td>\n",
       "      <td>-0.327054</td>\n",
       "      <td>-0.317045</td>\n",
       "    </tr>\n",
       "    <tr>\n",
       "      <th>13</th>\n",
       "      <td>-0.212437</td>\n",
       "      <td>-0.187310</td>\n",
       "      <td>-0.175361</td>\n",
       "      <td>-0.163825</td>\n",
       "    </tr>\n",
       "    <tr>\n",
       "      <th>14</th>\n",
       "      <td>-0.037972</td>\n",
       "      <td>-0.014624</td>\n",
       "      <td>-0.003627</td>\n",
       "      <td>0.006911</td>\n",
       "    </tr>\n",
       "    <tr>\n",
       "      <th>15</th>\n",
       "      <td>-0.103237</td>\n",
       "      <td>-0.080836</td>\n",
       "      <td>-0.070034</td>\n",
       "      <td>-0.059422</td>\n",
       "    </tr>\n",
       "    <tr>\n",
       "      <th>16</th>\n",
       "      <td>0.007115</td>\n",
       "      <td>-0.013618</td>\n",
       "      <td>-0.024672</td>\n",
       "      <td>-0.036160</td>\n",
       "    </tr>\n",
       "    <tr>\n",
       "      <th>17</th>\n",
       "      <td>-0.391343</td>\n",
       "      <td>-0.372028</td>\n",
       "      <td>-0.362616</td>\n",
       "      <td>-0.353304</td>\n",
       "    </tr>\n",
       "    <tr>\n",
       "      <th>18</th>\n",
       "      <td>-0.119802</td>\n",
       "      <td>-0.093166</td>\n",
       "      <td>-0.080492</td>\n",
       "      <td>-0.068254</td>\n",
       "    </tr>\n",
       "    <tr>\n",
       "      <th>19</th>\n",
       "      <td>-0.228557</td>\n",
       "      <td>-0.203414</td>\n",
       "      <td>-0.191326</td>\n",
       "      <td>-0.179415</td>\n",
       "    </tr>\n",
       "    <tr>\n",
       "      <th>20</th>\n",
       "      <td>-0.153256</td>\n",
       "      <td>-0.131371</td>\n",
       "      <td>-0.121070</td>\n",
       "      <td>-0.111205</td>\n",
       "    </tr>\n",
       "    <tr>\n",
       "      <th>21</th>\n",
       "      <td>-0.172678</td>\n",
       "      <td>-0.151358</td>\n",
       "      <td>-0.141121</td>\n",
       "      <td>-0.131063</td>\n",
       "    </tr>\n",
       "    <tr>\n",
       "      <th>22</th>\n",
       "      <td>-0.146912</td>\n",
       "      <td>-0.120891</td>\n",
       "      <td>-0.108429</td>\n",
       "      <td>-0.096142</td>\n",
       "    </tr>\n",
       "    <tr>\n",
       "      <th>23</th>\n",
       "      <td>-0.309497</td>\n",
       "      <td>-0.282968</td>\n",
       "      <td>-0.270299</td>\n",
       "      <td>-0.258029</td>\n",
       "    </tr>\n",
       "    <tr>\n",
       "      <th>24</th>\n",
       "      <td>-0.155963</td>\n",
       "      <td>-0.139085</td>\n",
       "      <td>-0.130916</td>\n",
       "      <td>-0.122933</td>\n",
       "    </tr>\n",
       "    <tr>\n",
       "      <th>25</th>\n",
       "      <td>-0.238564</td>\n",
       "      <td>-0.217352</td>\n",
       "      <td>-0.207354</td>\n",
       "      <td>-0.197784</td>\n",
       "    </tr>\n",
       "    <tr>\n",
       "      <th>26</th>\n",
       "      <td>-0.040509</td>\n",
       "      <td>-0.018831</td>\n",
       "      <td>-0.008466</td>\n",
       "      <td>0.001656</td>\n",
       "    </tr>\n",
       "    <tr>\n",
       "      <th>27</th>\n",
       "      <td>0.151106</td>\n",
       "      <td>0.130366</td>\n",
       "      <td>0.119248</td>\n",
       "      <td>0.107634</td>\n",
       "    </tr>\n",
       "    <tr>\n",
       "      <th>28</th>\n",
       "      <td>-0.084336</td>\n",
       "      <td>-0.062407</td>\n",
       "      <td>-0.052088</td>\n",
       "      <td>-0.042163</td>\n",
       "    </tr>\n",
       "    <tr>\n",
       "      <th>29</th>\n",
       "      <td>-0.180219</td>\n",
       "      <td>-0.160350</td>\n",
       "      <td>-0.151070</td>\n",
       "      <td>-0.142071</td>\n",
       "    </tr>\n",
       "    <tr>\n",
       "      <th>...</th>\n",
       "      <td>...</td>\n",
       "      <td>...</td>\n",
       "      <td>...</td>\n",
       "      <td>...</td>\n",
       "    </tr>\n",
       "    <tr>\n",
       "      <th>70</th>\n",
       "      <td>0.091371</td>\n",
       "      <td>0.074298</td>\n",
       "      <td>0.064567</td>\n",
       "      <td>0.054608</td>\n",
       "    </tr>\n",
       "    <tr>\n",
       "      <th>71</th>\n",
       "      <td>0.012347</td>\n",
       "      <td>-0.011499</td>\n",
       "      <td>-0.024066</td>\n",
       "      <td>-0.037067</td>\n",
       "    </tr>\n",
       "    <tr>\n",
       "      <th>72</th>\n",
       "      <td>-0.219977</td>\n",
       "      <td>-0.201600</td>\n",
       "      <td>-0.192680</td>\n",
       "      <td>-0.183850</td>\n",
       "    </tr>\n",
       "    <tr>\n",
       "      <th>73</th>\n",
       "      <td>-0.294246</td>\n",
       "      <td>-0.274508</td>\n",
       "      <td>-0.264913</td>\n",
       "      <td>-0.255496</td>\n",
       "    </tr>\n",
       "    <tr>\n",
       "      <th>74</th>\n",
       "      <td>-0.009868</td>\n",
       "      <td>0.007558</td>\n",
       "      <td>0.015748</td>\n",
       "      <td>0.024310</td>\n",
       "    </tr>\n",
       "    <tr>\n",
       "      <th>75</th>\n",
       "      <td>-0.049758</td>\n",
       "      <td>-0.029617</td>\n",
       "      <td>-0.019827</td>\n",
       "      <td>-0.010146</td>\n",
       "    </tr>\n",
       "    <tr>\n",
       "      <th>76</th>\n",
       "      <td>-0.049190</td>\n",
       "      <td>-0.024075</td>\n",
       "      <td>-0.011799</td>\n",
       "      <td>0.000284</td>\n",
       "    </tr>\n",
       "    <tr>\n",
       "      <th>77</th>\n",
       "      <td>-0.298828</td>\n",
       "      <td>-0.275155</td>\n",
       "      <td>-0.263907</td>\n",
       "      <td>-0.253059</td>\n",
       "    </tr>\n",
       "    <tr>\n",
       "      <th>78</th>\n",
       "      <td>-0.291950</td>\n",
       "      <td>-0.268996</td>\n",
       "      <td>-0.258148</td>\n",
       "      <td>-0.247694</td>\n",
       "    </tr>\n",
       "    <tr>\n",
       "      <th>79</th>\n",
       "      <td>-0.125985</td>\n",
       "      <td>-0.106096</td>\n",
       "      <td>-0.096484</td>\n",
       "      <td>-0.087048</td>\n",
       "    </tr>\n",
       "    <tr>\n",
       "      <th>80</th>\n",
       "      <td>-0.216627</td>\n",
       "      <td>-0.196118</td>\n",
       "      <td>-0.186308</td>\n",
       "      <td>-0.176633</td>\n",
       "    </tr>\n",
       "    <tr>\n",
       "      <th>81</th>\n",
       "      <td>-0.076646</td>\n",
       "      <td>-0.050878</td>\n",
       "      <td>-0.038269</td>\n",
       "      <td>-0.025842</td>\n",
       "    </tr>\n",
       "    <tr>\n",
       "      <th>82</th>\n",
       "      <td>-0.305664</td>\n",
       "      <td>-0.286365</td>\n",
       "      <td>-0.277103</td>\n",
       "      <td>-0.268016</td>\n",
       "    </tr>\n",
       "    <tr>\n",
       "      <th>83</th>\n",
       "      <td>-0.063328</td>\n",
       "      <td>-0.041662</td>\n",
       "      <td>-0.031509</td>\n",
       "      <td>-0.021682</td>\n",
       "    </tr>\n",
       "    <tr>\n",
       "      <th>84</th>\n",
       "      <td>-0.211053</td>\n",
       "      <td>-0.192233</td>\n",
       "      <td>-0.183431</td>\n",
       "      <td>-0.174889</td>\n",
       "    </tr>\n",
       "    <tr>\n",
       "      <th>85</th>\n",
       "      <td>-0.194096</td>\n",
       "      <td>-0.174079</td>\n",
       "      <td>-0.164595</td>\n",
       "      <td>-0.155297</td>\n",
       "    </tr>\n",
       "    <tr>\n",
       "      <th>86</th>\n",
       "      <td>-0.089372</td>\n",
       "      <td>-0.063721</td>\n",
       "      <td>-0.051519</td>\n",
       "      <td>-0.039738</td>\n",
       "    </tr>\n",
       "    <tr>\n",
       "      <th>87</th>\n",
       "      <td>0.161827</td>\n",
       "      <td>0.139221</td>\n",
       "      <td>0.127174</td>\n",
       "      <td>0.114637</td>\n",
       "    </tr>\n",
       "    <tr>\n",
       "      <th>88</th>\n",
       "      <td>-0.092883</td>\n",
       "      <td>-0.073380</td>\n",
       "      <td>-0.063970</td>\n",
       "      <td>-0.054657</td>\n",
       "    </tr>\n",
       "    <tr>\n",
       "      <th>89</th>\n",
       "      <td>-0.189918</td>\n",
       "      <td>-0.171236</td>\n",
       "      <td>-0.162236</td>\n",
       "      <td>-0.153371</td>\n",
       "    </tr>\n",
       "    <tr>\n",
       "      <th>90</th>\n",
       "      <td>-0.135877</td>\n",
       "      <td>-0.115329</td>\n",
       "      <td>-0.105691</td>\n",
       "      <td>-0.096478</td>\n",
       "    </tr>\n",
       "    <tr>\n",
       "      <th>91</th>\n",
       "      <td>-0.318615</td>\n",
       "      <td>-0.295897</td>\n",
       "      <td>-0.285114</td>\n",
       "      <td>-0.274714</td>\n",
       "    </tr>\n",
       "    <tr>\n",
       "      <th>92</th>\n",
       "      <td>0.035900</td>\n",
       "      <td>0.005943</td>\n",
       "      <td>-0.009701</td>\n",
       "      <td>-0.025780</td>\n",
       "    </tr>\n",
       "    <tr>\n",
       "      <th>93</th>\n",
       "      <td>-0.062013</td>\n",
       "      <td>-0.041915</td>\n",
       "      <td>-0.032502</td>\n",
       "      <td>-0.023406</td>\n",
       "    </tr>\n",
       "    <tr>\n",
       "      <th>94</th>\n",
       "      <td>-0.247538</td>\n",
       "      <td>-0.230440</td>\n",
       "      <td>-0.222146</td>\n",
       "      <td>-0.213971</td>\n",
       "    </tr>\n",
       "    <tr>\n",
       "      <th>95</th>\n",
       "      <td>-0.304752</td>\n",
       "      <td>-0.283509</td>\n",
       "      <td>-0.273253</td>\n",
       "      <td>-0.263172</td>\n",
       "    </tr>\n",
       "    <tr>\n",
       "      <th>96</th>\n",
       "      <td>0.002691</td>\n",
       "      <td>-0.019115</td>\n",
       "      <td>-0.030563</td>\n",
       "      <td>-0.042012</td>\n",
       "    </tr>\n",
       "    <tr>\n",
       "      <th>97</th>\n",
       "      <td>-0.035831</td>\n",
       "      <td>-0.014643</td>\n",
       "      <td>-0.004737</td>\n",
       "      <td>0.004711</td>\n",
       "    </tr>\n",
       "    <tr>\n",
       "      <th>98</th>\n",
       "      <td>-0.018631</td>\n",
       "      <td>0.007125</td>\n",
       "      <td>0.019298</td>\n",
       "      <td>0.030993</td>\n",
       "    </tr>\n",
       "    <tr>\n",
       "      <th>99</th>\n",
       "      <td>-0.239844</td>\n",
       "      <td>-0.216391</td>\n",
       "      <td>-0.205066</td>\n",
       "      <td>-0.193916</td>\n",
       "    </tr>\n",
       "  </tbody>\n",
       "</table>\n",
       "<p>100 rows × 4 columns</p>\n",
       "</div>"
      ],
      "text/plain": [
       "         SAA      0.01     0.015      0.02\n",
       "0  -0.188058 -0.165884 -0.155084 -0.144457\n",
       "1  -0.052265 -0.030577 -0.020233 -0.010110\n",
       "2  -0.099473 -0.081584 -0.072943 -0.064491\n",
       "3  -0.328879 -0.307812 -0.297564 -0.287453\n",
       "4  -0.112504 -0.092713 -0.083457 -0.074635\n",
       "5  -0.297262 -0.273335 -0.261965 -0.250998\n",
       "6  -0.076363 -0.051876 -0.040323 -0.029199\n",
       "7  -0.079841 -0.059237 -0.049511 -0.039988\n",
       "8   0.063867  0.012218  0.029290  0.016773\n",
       "9  -0.293709 -0.271770 -0.261073 -0.250551\n",
       "10 -0.197713 -0.177333 -0.167452 -0.157753\n",
       "11 -0.059437 -0.034868 -0.023260 -0.012102\n",
       "12 -0.358121 -0.337158 -0.327054 -0.317045\n",
       "13 -0.212437 -0.187310 -0.175361 -0.163825\n",
       "14 -0.037972 -0.014624 -0.003627  0.006911\n",
       "15 -0.103237 -0.080836 -0.070034 -0.059422\n",
       "16  0.007115 -0.013618 -0.024672 -0.036160\n",
       "17 -0.391343 -0.372028 -0.362616 -0.353304\n",
       "18 -0.119802 -0.093166 -0.080492 -0.068254\n",
       "19 -0.228557 -0.203414 -0.191326 -0.179415\n",
       "20 -0.153256 -0.131371 -0.121070 -0.111205\n",
       "21 -0.172678 -0.151358 -0.141121 -0.131063\n",
       "22 -0.146912 -0.120891 -0.108429 -0.096142\n",
       "23 -0.309497 -0.282968 -0.270299 -0.258029\n",
       "24 -0.155963 -0.139085 -0.130916 -0.122933\n",
       "25 -0.238564 -0.217352 -0.207354 -0.197784\n",
       "26 -0.040509 -0.018831 -0.008466  0.001656\n",
       "27  0.151106  0.130366  0.119248  0.107634\n",
       "28 -0.084336 -0.062407 -0.052088 -0.042163\n",
       "29 -0.180219 -0.160350 -0.151070 -0.142071\n",
       "..       ...       ...       ...       ...\n",
       "70  0.091371  0.074298  0.064567  0.054608\n",
       "71  0.012347 -0.011499 -0.024066 -0.037067\n",
       "72 -0.219977 -0.201600 -0.192680 -0.183850\n",
       "73 -0.294246 -0.274508 -0.264913 -0.255496\n",
       "74 -0.009868  0.007558  0.015748  0.024310\n",
       "75 -0.049758 -0.029617 -0.019827 -0.010146\n",
       "76 -0.049190 -0.024075 -0.011799  0.000284\n",
       "77 -0.298828 -0.275155 -0.263907 -0.253059\n",
       "78 -0.291950 -0.268996 -0.258148 -0.247694\n",
       "79 -0.125985 -0.106096 -0.096484 -0.087048\n",
       "80 -0.216627 -0.196118 -0.186308 -0.176633\n",
       "81 -0.076646 -0.050878 -0.038269 -0.025842\n",
       "82 -0.305664 -0.286365 -0.277103 -0.268016\n",
       "83 -0.063328 -0.041662 -0.031509 -0.021682\n",
       "84 -0.211053 -0.192233 -0.183431 -0.174889\n",
       "85 -0.194096 -0.174079 -0.164595 -0.155297\n",
       "86 -0.089372 -0.063721 -0.051519 -0.039738\n",
       "87  0.161827  0.139221  0.127174  0.114637\n",
       "88 -0.092883 -0.073380 -0.063970 -0.054657\n",
       "89 -0.189918 -0.171236 -0.162236 -0.153371\n",
       "90 -0.135877 -0.115329 -0.105691 -0.096478\n",
       "91 -0.318615 -0.295897 -0.285114 -0.274714\n",
       "92  0.035900  0.005943 -0.009701 -0.025780\n",
       "93 -0.062013 -0.041915 -0.032502 -0.023406\n",
       "94 -0.247538 -0.230440 -0.222146 -0.213971\n",
       "95 -0.304752 -0.283509 -0.273253 -0.263172\n",
       "96  0.002691 -0.019115 -0.030563 -0.042012\n",
       "97 -0.035831 -0.014643 -0.004737  0.004711\n",
       "98 -0.018631  0.007125  0.019298  0.030993\n",
       "99 -0.239844 -0.216391 -0.205066 -0.193916\n",
       "\n",
       "[100 rows x 4 columns]"
      ]
     },
     "execution_count": 116,
     "metadata": {},
     "output_type": "execute_result"
    }
   ],
   "source": [
    "pd.read_csv('wasser_N10.csv')"
   ]
  },
  {
   "cell_type": "code",
   "execution_count": 88,
   "metadata": {},
   "outputs": [
    {
     "data": {
      "text/plain": [
       "<matplotlib.legend.Legend at 0x7f263cc1ca50>"
      ]
     },
     "execution_count": 88,
     "metadata": {},
     "output_type": "execute_result"
    },
    {
     "data": {
      "image/png": "[encoded data removed]",
      "text/plain": [
       "<Figure size 720x360 with 1 Axes>"
      ]
     },
     "metadata": {},
     "output_type": "display_data"
    }
   ],
   "source": [
    "plt.figure(figsize=(10,5))\n",
    "lineObjects = plt.plot(N,np.abs(np.mean(SAA_results,axis=0)+1.0/7),label='SSA approximation',lw=5.0,ls='-')\n",
    "lineObjects += plt.plot(N,np.abs(np.mean(wasserstein_results,axis=0)+1.0/7))\n",
    "#plt.plot(N,np.abs(np.mean(SAA_results,axis=0)+1.0/7),label='SAA approximation')\n",
    "#plt.plot(N,np.abs(np.mean(phi_results,axis=0)+1.0/7),label='Phi Divergence')\n",
    "#plt.plot(N,np.abs(np.mean(wasserstein_results,axis=0)+1.0/7),label='Wasserstein')\n",
    "\n",
    "plt.plot(N,[0.0]*len(N),'--',label='True value')\n",
    "strings = ['wass '+ str(ele) for ele in delta]\n",
    "plt.legend(lineObjects,tuple(['SAA'] + strings + ['True value']))"
   ]
  },
  {
   "cell_type": "code",
   "execution_count": null,
   "metadata": {},
   "outputs": [],
   "source": []
  },
  {
   "cell_type": "raw",
   "metadata": {},
   "source": [
    "# save data to a csv\n",
    "header='10,20,50,100'\n",
    "np.savetxt('wasser_results_01.csv', wasserstein_results[:,:,1], delimiter=',', header=header)\n",
    "np.savetxt('SAA_results.csv', SAA_results, delimiter=',', header=header)"
   ]
  },
  {
   "cell_type": "code",
   "execution_count": 89,
   "metadata": {},
   "outputs": [
    {
     "data": {
      "text/plain": [
       "Text(0.5,1,'Standard Deviation')"
      ]
     },
     "execution_count": 89,
     "metadata": {},
     "output_type": "execute_result"
    },
    {
     "data": {
      "image/png": "[encoded data removed]",
      "text/plain": [
       "<Figure size 720x360 with 1 Axes>"
      ]
     },
     "metadata": {},
     "output_type": "display_data"
    }
   ],
   "source": [
    "plt.figure(figsize=(10,5))\n",
    "lineObjects = plt.plot(N,np.std(SAA_results,axis=0),label='SSA approximation',lw=5.0,ls='-')\n",
    "lineObjects += plt.plot(N,np.std(wasserstein_results[:,:,:],axis=0))\n",
    "\n",
    "strings = ['wass '+ str(ele) for ele in delta]\n",
    "plt.legend(lineObjects,tuple(['SAA'] + strings + ['True value']))\n",
    "plt.title('Standard Deviation')"
   ]
  },
  {
   "cell_type": "code",
   "execution_count": 90,
   "metadata": {},
   "outputs": [],
   "source": [
    "diff_wasser = np.abs(SAA_results - wasserstein_results[:,:,1])"
   ]
  },
  {
   "cell_type": "code",
   "execution_count": 91,
   "metadata": {},
   "outputs": [
    {
     "data": {
      "text/plain": [
       "<matplotlib.legend.Legend at 0x7f263d0dccd0>"
      ]
     },
     "execution_count": 91,
     "metadata": {},
     "output_type": "execute_result"
    },
    {
     "data": {
      "image/png": "[encoded data removed]",
      "text/plain": [
       "<Figure size 720x360 with 1 Axes>"
      ]
     },
     "metadata": {},
     "output_type": "display_data"
    }
   ],
   "source": [
    "plt.figure(figsize=(10,5))\n",
    "lineObjects = plt.plot(N,np.mean(diff_wasser,axis=0),label='Wasser vs SAA',ls='-.',lw=3.0)\n",
    "plt.legend()"
   ]
  },
  {
   "cell_type": "code",
   "execution_count": 92,
   "metadata": {},
   "outputs": [
    {
     "data": {
      "text/plain": [
       "<matplotlib.legend.Legend at 0x7f263d048d10>"
      ]
     },
     "execution_count": 92,
     "metadata": {},
     "output_type": "execute_result"
    },
    {
     "data": {
      "image/png": "[encoded data removed]",
      "text/plain": [
       "<Figure size 720x360 with 1 Axes>"
      ]
     },
     "metadata": {},
     "output_type": "display_data"
    }
   ],
   "source": [
    "plt.figure(figsize=(10,5))\n",
    "lineObjects = plt.plot(N,np.std(diff_wasser,axis=0),label='Wasser vs SAA',ls='-.',lw=3.0)\n",
    "plt.legend()"
   ]
  },
  {
   "cell_type": "code",
   "execution_count": 94,
   "metadata": {},
   "outputs": [
    {
     "name": "stderr",
     "output_type": "stream",
     "text": [
      "/usr/local/lib/python2.7/dist-packages/matplotlib/axes/_axes.py:6462: UserWarning: The 'normed' kwarg is deprecated, and has been replaced by the 'density' kwarg.\n",
      "  warnings.warn(\"The 'normed' kwarg is deprecated, and has been \"\n"
     ]
    },
    {
     "data": {
      "text/plain": [
       "<matplotlib.legend.Legend at 0x7f263cfdc890>"
      ]
     },
     "execution_count": 94,
     "metadata": {},
     "output_type": "execute_result"
    },
    {
     "data": {
      "image/png": "[encoded data removed]",
      "text/plain": [
       "<Figure size 432x288 with 1 Axes>"
      ]
     },
     "metadata": {},
     "output_type": "display_data"
    }
   ],
   "source": [
    "plt.hist(diff_wasser[:,0],bins=50,normed=True,label='Wasser')\n",
    "plt.title('Difference between robustification technique and SAA N=10')\n",
    "plt.legend()"
   ]
  },
  {
   "cell_type": "code",
   "execution_count": null,
   "metadata": {},
   "outputs": [],
   "source": [
    "plt.hist(diff_phi[:,1],bins=50,normed=True,label='Phi')\n",
    "plt.hist(diff_wasser[:,1],bins=50,normed=True,label='Wasser')\n",
    "plt.title('Difference between robustification technique and SAA N=25')\n",
    "plt.legend()"
   ]
  },
  {
   "cell_type": "code",
   "execution_count": null,
   "metadata": {},
   "outputs": [],
   "source": [
    "plt.hist(diff_phi[:,2],bins=50,normed=True,label='Phi')\n",
    "\n",
    "\n",
    "\n",
    "plt.hist(diff_wasser[:,2],bins=50,normed=True,label='Wasser')\n",
    "plt.title('Difference between robustification technique and SAA N=50')"
   ]
  },
  {
   "cell_type": "code",
   "execution_count": null,
   "metadata": {},
   "outputs": [],
   "source": []
  }
 ],
 "metadata": {
  "kernelspec": {
   "display_name": "Python 2",
   "language": "python",
   "name": "python2"
  },
  "language_info": {
   "codemirror_mode": {
    "name": "ipython",
    "version": 2
   },
   "file_extension": ".py",
   "mimetype": "text/x-python",
   "name": "python",
   "nbconvert_exporter": "python",
   "pygments_lexer": "ipython2",
   "version": "2.7.12"
  }
 },
 "nbformat": 4,
 "nbformat_minor": 2
}
