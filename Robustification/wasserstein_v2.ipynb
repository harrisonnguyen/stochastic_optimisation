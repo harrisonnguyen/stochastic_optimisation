{
 "cells": [
  {
   "cell_type": "code",
   "execution_count": 137,
   "metadata": {},
   "outputs": [],
   "source": [
    "import numpy as np\n",
    "import matplotlib.pyplot as plt\n",
    "%matplotlib inline\n",
    "import sys\n",
    "sys.path.insert(0, '../')\n",
    "from scipy.optimize import minimize\n",
    "from scipy.stats import beta\n",
    "import util.util as util\n",
    "from util.util import evaluate,SAA_minimise\n",
    "from scipy.stats import wasserstein_distance\n",
    "import csv\n",
    "import pickle\n",
    "import pandas as pd"
   ]
  },
  {
   "cell_type": "markdown",
   "metadata": {},
   "source": [
    "The function that is maximised is: <br>\n",
    "<center> $3x^2 + 6xy^2 - 2x^2y - 7xy$"
   ]
  },
  {
   "cell_type": "code",
   "execution_count": 2,
   "metadata": {},
   "outputs": [],
   "source": [
    "Y = beta(a = 3,b=3,loc=-1,scale=2)"
   ]
  },
  {
   "cell_type": "code",
   "execution_count": 3,
   "metadata": {},
   "outputs": [],
   "source": [
    "def wasserstein_constraint(limit,samples,delta):\n",
    "    distance =np.sum(np.concatenate((limit[0] - samples[limit[0] > samples],\n",
    "               samples[limit[1] < samples] - limit[1])))\n",
    "    return  delta-distance/float(samples.shape[0])"
   ]
  },
  {
   "cell_type": "code",
   "execution_count": 4,
   "metadata": {},
   "outputs": [],
   "source": [
    "def limit_constraint(limit):\n",
    "    # right hand side must be greater than lefthand side\n",
    "    return limit[1]-limit[0]"
   ]
  },
  {
   "cell_type": "code",
   "execution_count": 5,
   "metadata": {},
   "outputs": [],
   "source": [
    "def plot_sample_change(x_star,Sy,new_y,func):\n",
    "    \n",
    "    # get a plot of the cost function\n",
    "    temp_y = np.linspace(np.min(Sy),np.max(Sy),500)\n",
    "    full_cost = evaluate(x_star,temp_y,func,find_mean=False)\n",
    "    \n",
    "    # get cost of samples\n",
    "    sub_cost = evaluate(x_star,Sy,func,find_mean=False)\n",
    "    # cost of changed samples\n",
    "    altered = evaluate(x_star,new_y,func,find_mean=False)\n",
    "    \n",
    "    # check which samples have changed\n",
    "    changed_index = np.isclose(Sy,new_y,atol=1e-2) == False\n",
    "    \n",
    "    changed_samples = new_y[changed_index]\n",
    "    changed_cost = evaluate(x_star,changed_samples,func,find_mean=False)\n",
    "    original_samples = Sy[changed_index]\n",
    "    original_cost = sub_cost[changed_index]\n",
    "    \n",
    "    # plot the hraph\n",
    "    plt.figure(figsize=(10,8))\n",
    "    plt.plot(temp_y,full_cost,label='cost function')\n",
    "    plt.plot(Sy,sub_cost,'o',label='samples')\n",
    "\n",
    "    plt.plot(changed_samples,original_cost,'o',label='altered samples')\n",
    "    for i in range(len(changed_cost)):\n",
    "        plt.arrow(original_samples[i],\n",
    "                  original_cost[i],\n",
    "                  (changed_samples[i]-original_samples[i])*0.7,\n",
    "                  0,head_width=0.02,length_includes_head=False)\n",
    "    plt.legend()"
   ]
  },
  {
   "cell_type": "code",
   "execution_count": 6,
   "metadata": {},
   "outputs": [],
   "source": [
    "def test(limit,x_star,samples,func):\n",
    "    #new_Sy = np.copy(samples)\n",
    "    #new_Sy[:np.searchsorted(sort_Sy,limit[0],'right')] = limit[0]\n",
    "    #new_Sy[np.searchsorted(sort_Sy,limit[1],'left'):] = limit[1]\n",
    "    \n",
    "    new_Sy = alter_samples(limit,samples)\n",
    "    return -evaluate(x_star,new_Sy,func)"
   ]
  },
  {
   "cell_type": "code",
   "execution_count": 7,
   "metadata": {},
   "outputs": [],
   "source": [
    "def alter_samples(limit,samples):\n",
    "    new_samples = np.copy(samples)\n",
    "    new_samples[:np.searchsorted(samples,limit[0],'right')] = limit[0]\n",
    "    new_samples[np.searchsorted(samples,limit[1],'left'):] = limit[1]\n",
    "    \n",
    "    return new_samples"
   ]
  },
  {
   "cell_type": "code",
   "execution_count": 8,
   "metadata": {},
   "outputs": [],
   "source": [
    "def wasserstein_robustification(samples,x_star,func,delta):\n",
    "\n",
    "    constraint = [{'type':'ineq','fun':wasserstein_constraint,'args':[samples,delta]},\n",
    "             {'type':'ineq','fun':limit_constraint}]\n",
    "    bound = [(-1,1)]*2\n",
    "    #bound = [(-1,x_star),(x_star,1)]\n",
    "    limit = [samples[1],samples[-2]]\n",
    "    res = minimize(test,limit,args=(x_star,samples,func),\n",
    "                   constraints=constraint,bounds=bound,\n",
    "                  options={'maxiter': 500,\n",
    "                          'ftol': 1e-06})\n",
    "    new_samples = alter_samples(res.x,samples)\n",
    "    return new_samples"
   ]
  },
  {
   "cell_type": "code",
   "execution_count": 9,
   "metadata": {},
   "outputs": [
    {
     "data": {
      "image/png": "[encoded data removed]",
      "text/plain": [
       "<Figure size 720x576 with 1 Axes>"
      ]
     },
     "metadata": {},
     "output_type": "display_data"
    }
   ],
   "source": [
    "# a test\n",
    "Sy = Y.rvs(50)\n",
    "sort_Sy = np.sort(Sy)\n",
    "x_star = SAA_minimise(sort_Sy,util.f1)\n",
    "new_sample = wasserstein_robustification(sort_Sy,x_star,util.f1,0.05)\n",
    "new_xstar= SAA_minimise(new_sample,util.f1)\n",
    "plot_sample_change(x_star,sort_Sy,new_sample,util.f1)"
   ]
  },
  {
   "cell_type": "code",
   "execution_count": 160,
   "metadata": {},
   "outputs": [],
   "source": [
    "N = 100\n",
    "n_iter = 1000\n",
    "delta = [0.01,0.02,0.05]"
   ]
  },
  {
   "cell_type": "code",
   "execution_count": 161,
   "metadata": {},
   "outputs": [
    {
     "name": "stdout",
     "output_type": "stream",
     "text": [
      "1 loop, best of 3: 8.41 s per loop\n"
     ]
    }
   ],
   "source": [
    "%%timeit\n",
    "with open('results/wasser_convave_N'+ str(N)+'.csv', 'w') as csvfile:\n",
    "    writer = csv.writer(csvfile, delimiter=',')\n",
    "    writer.writerow(['SAA'] + delta)\n",
    "    n_changed_samples = pd.DataFrame(columns=['SAA'] + delta)\n",
    "    for k in range(n_iter):\n",
    "        # samples from distribution\n",
    "        Sy = Y.rvs(N)\n",
    "        sort_Sy = np.sort(Sy)\n",
    "        \n",
    "        # SAA\n",
    "        x_star = SAA_minimise(sort_Sy,util.f1)\n",
    "        wasser_results = []\n",
    "        temp = [0]\n",
    "        \n",
    "        # gpo through each delta\n",
    "        for d in range(len(delta)):\n",
    "            new_sample = wasserstein_robustification(sort_Sy,x_star,util.f1,delta[d])\n",
    "            new_xstar= SAA_minimise(new_sample,util.f1)\n",
    "            wasser_results += [float(new_xstar)]\n",
    "            temp += [np.sum(1-np.isclose(new_sample,sort_Sy))]\n",
    "            \n",
    "        # write results\n",
    "        n_changed_samples.loc[k,:] =  temp\n",
    "        writer.writerow([float(x_star)] + wasser_results)\n",
    "    n_changed_samples.to_csv('results/wasser_concave_N'+ str(N)+\n",
    "                             'changed_samples.csv')"
   ]
  },
  {
   "cell_type": "markdown",
   "metadata": {},
   "source": [
    "## Second function\n",
    "Function is convex in $y$: <br>\n",
    "<center> $3x^2 + 6xy^2 - 2x^2y - 7xy -5x$"
   ]
  },
  {
   "cell_type": "code",
   "execution_count": 12,
   "metadata": {},
   "outputs": [],
   "source": [
    "def wasserstein_constraint_convex(variables,bounds,samples,delta):\n",
    "    \"\"\"\n",
    "    in convex functions, the limit is fixed,\n",
    "    what we try to do is determine the number of samples to move\n",
    "    to that limit and the fraction of movement\n",
    "    \n",
    "    variables[0] and variables[1] is the index, left and right respectively\n",
    "    variables[2] and variables[3] are weights, elft and right respectively\n",
    "    \"\"\"\n",
    "    new_samples,new_sample_weights,indexes = alter_samples_convex(variables,bounds,samples)\n",
    "    u_weights = np.ones(samples.shape[0])\n",
    "    u_weights[0] = 0\n",
    "    u_weights[-1] = 0\n",
    "    distance = wasserstein_distance(samples,new_samples,\n",
    "                                    u_weights=u_weights,\n",
    "                                    v_weights=new_sample_weights) \n",
    "    #distance = [np.sum(np.abs((new_samples-added_samples)))]\n",
    "    #distance+= [(new_samples[indexes[0]]-bounds[0])*new_sample_weights[indexes[0]]]\n",
    "    #distance+= [(bounds[1] - new_samples[indexes[1]-1])*new_sample_weights[indexes[1]-1]]\n",
    "   \n",
    "    #difference =  np.abs(samples - new_samples)\n",
    "\n",
    "    return delta-distance"
   ]
  },
  {
   "cell_type": "code",
   "execution_count": 13,
   "metadata": {},
   "outputs": [],
   "source": [
    "def alter_samples_convex(limit,bounds,samples):\n",
    "    # returns a set of new samples\n",
    "    # with weights\n",
    "    \n",
    "    new_samples = np.copy(samples)\n",
    "    left_index = np.searchsorted(samples,limit[0],'left')\n",
    "    right_index = np.searchsorted(samples,limit[1],'right')\n",
    "    \n",
    "    #new_samples[:np.searchsorted(samples,limit[0],'left')] = bounds[0]\n",
    "    #new_samples[np.searchsorted(samples,limit[1],'right'):] = bounds[1]\n",
    "    new_samples[:left_index] = bounds[0]\n",
    "    new_samples[right_index:] = bounds[1]\n",
    "    \n",
    "    new_sample_weights = np.ones((new_samples.shape[0]))\n",
    "    \n",
    "    \n",
    "    # the limit it outside samples\n",
    "    if left_index > 0:\n",
    "        new_sample_weights[left_index] = np.maximum(1.0-limit[2],0)\n",
    "        new_sample_weights[0] = limit[2]\n",
    "    else:\n",
    "        new_sample_weights[0] = 0\n",
    "    \n",
    "    \n",
    "    \n",
    "    \n",
    "    if right_index < new_samples.shape[0]:\n",
    "        new_sample_weights[right_index-1] = np.maximum(1.0-limit[3],0)\n",
    "        new_sample_weights[-1] = limit[3]\n",
    "    else:\n",
    "        new_sample_weights[-1] = 0\n",
    "    return new_samples, new_sample_weights,[left_index,right_index]"
   ]
  },
  {
   "cell_type": "code",
   "execution_count": 108,
   "metadata": {},
   "outputs": [],
   "source": [
    "def test_convex(variables,limit,x_star,samples,func):\n",
    "    # just remember we have samples = [bound_neg, x0,x1,x2,...,xn,bound_pos]\n",
    "    # assign the weights\n",
    "    \n",
    "    new_samples,new_sample_weights,indexs = alter_samples_convex(variables,limit,samples)\n",
    "    \n",
    "    return evaluate(x_star,new_samples,func,weights=new_sample_weights)"
   ]
  },
  {
   "cell_type": "code",
   "execution_count": 109,
   "metadata": {},
   "outputs": [],
   "source": [
    "def wasser_robustification_convex(samples,sample_bounds,x_star,func,delta):\n",
    "    temp_y = np.linspace(-1,1.5,500)\n",
    "    full_cost = evaluate(x_star,temp_y,func,find_mean=False)\n",
    "    minimum = temp_y[np.argmin(full_cost)]\n",
    "    \n",
    "    # added limits for computations\n",
    "    added_samples = np.insert(samples,[0,samples.shape[0]],\n",
    "                              [sample_bounds[0],sample_bounds[1]])\n",
    "    \n",
    "    # constraints and bounds\n",
    "    constraint = [{'type':'eq','fun':wasserstein_constraint_convex,\n",
    "                   'args':[sample_bounds,added_samples,delta]},\n",
    "             {'type':'ineq','fun':limit_constraint}]\n",
    "    bound = ((sample_bounds[0],minimum),(minimum,sample_bounds[1]),(0.0,1.0),(0.0,1.0))\n",
    "    \n",
    "    # initial guess\n",
    "    # index 0, shape+1 means no movement,\n",
    "    initial_variable = [samples[1],samples[-1],0.5,0.5]\n",
    "    \n",
    "    \n",
    "    \n",
    "    res = minimize(test_convex,initial_variable,args=(sample_bounds,x_star,added_samples,func),\n",
    "                   constraints=constraint,bounds=bound,\n",
    "                  options={'maxiter': 600,\n",
    "                          'ftol': 1e-06})\n",
    "    new_samples = alter_samples_convex(res.x,sample_bounds,added_samples)\n",
    "    return new_samples,res.x"
   ]
  },
  {
   "cell_type": "code",
   "execution_count": 112,
   "metadata": {},
   "outputs": [],
   "source": [
    "sample_bounds = [-1,1]\n",
    "delta = 0.1"
   ]
  },
  {
   "cell_type": "code",
   "execution_count": 123,
   "metadata": {},
   "outputs": [
    {
     "data": {
      "image/png": "[encoded data removed]",
      "text/plain": [
       "<Figure size 720x576 with 1 Axes>"
      ]
     },
     "metadata": {},
     "output_type": "display_data"
    }
   ],
   "source": [
    "# a test\n",
    "Sy = Y.rvs(100)\n",
    "sort_Sy = np.sort(Sy)\n",
    "x_star = SAA_minimise(sort_Sy,util.f2)\n",
    "new_sample,_ = wasser_robustification_convex(sort_Sy,sample_bounds,x_star,util.f2,delta)\n",
    "new_xstar = SAA_minimise(new_sample[0],util.f2,new_sample[1])\n",
    "plot_sample_change(x_star,sort_Sy,new_sample[0][1:-1],util.f2)"
   ]
  },
  {
   "cell_type": "code",
   "execution_count": 164,
   "metadata": {},
   "outputs": [],
   "source": [
    "N_samples = [10,20,50,100]\n",
    "n_iter = 1000\n",
    "delta = [0.05,0.1,0.2]"
   ]
  },
  {
   "cell_type": "code",
   "execution_count": 165,
   "metadata": {},
   "outputs": [
    {
     "name": "stdout",
     "output_type": "stream",
     "text": [
      "CPU times: user 3 µs, sys: 0 ns, total: 3 µs\n",
      "Wall time: 5.96 µs\n"
     ]
    },
    {
     "ename": "IndexError",
     "evalue": "index 12 is out of bounds for axis 0 with size 12",
     "output_type": "error",
     "traceback": [
      "\u001b[0;31m---------------------------------------------------------------------------\u001b[0m",
      "\u001b[0;31mIndexError\u001b[0m                                Traceback (most recent call last)",
      "\u001b[0;32m<ipython-input-165-ee32ddea3403>\u001b[0m in \u001b[0;36m<module>\u001b[0;34m()\u001b[0m\n\u001b[1;32m     15\u001b[0m             \u001b[0;32mfor\u001b[0m \u001b[0md\u001b[0m \u001b[0;32min\u001b[0m \u001b[0mrange\u001b[0m\u001b[0;34m(\u001b[0m\u001b[0mlen\u001b[0m\u001b[0;34m(\u001b[0m\u001b[0mdelta\u001b[0m\u001b[0;34m)\u001b[0m\u001b[0;34m)\u001b[0m\u001b[0;34m:\u001b[0m\u001b[0;34m\u001b[0m\u001b[0m\n\u001b[1;32m     16\u001b[0m                 new_sample,_ = wasser_robustification_convex(sort_Sy,sample_bounds,\n\u001b[0;32m---> 17\u001b[0;31m                                                              x_star,util.f2,delta[d])\n\u001b[0m\u001b[1;32m     18\u001b[0m                 \u001b[0mnew_xstar\u001b[0m \u001b[0;34m=\u001b[0m \u001b[0mSAA_minimise\u001b[0m\u001b[0;34m(\u001b[0m\u001b[0mnew_sample\u001b[0m\u001b[0;34m[\u001b[0m\u001b[0;36m0\u001b[0m\u001b[0;34m]\u001b[0m\u001b[0;34m,\u001b[0m\u001b[0mutil\u001b[0m\u001b[0;34m.\u001b[0m\u001b[0mf2\u001b[0m\u001b[0;34m,\u001b[0m\u001b[0mnew_sample\u001b[0m\u001b[0;34m[\u001b[0m\u001b[0;36m1\u001b[0m\u001b[0;34m]\u001b[0m\u001b[0;34m)\u001b[0m\u001b[0;34m\u001b[0m\u001b[0m\n\u001b[1;32m     19\u001b[0m \u001b[0;34m\u001b[0m\u001b[0m\n",
      "\u001b[0;32m<ipython-input-109-4e219bac76d4>\u001b[0m in \u001b[0;36mwasser_robustification_convex\u001b[0;34m(samples, sample_bounds, x_star, func, delta)\u001b[0m\n\u001b[1;32m     23\u001b[0m                    \u001b[0mconstraints\u001b[0m\u001b[0;34m=\u001b[0m\u001b[0mconstraint\u001b[0m\u001b[0;34m,\u001b[0m\u001b[0mbounds\u001b[0m\u001b[0;34m=\u001b[0m\u001b[0mbound\u001b[0m\u001b[0;34m,\u001b[0m\u001b[0;34m\u001b[0m\u001b[0m\n\u001b[1;32m     24\u001b[0m                   options={'maxiter': 600,\n\u001b[0;32m---> 25\u001b[0;31m                           'ftol': 1e-06})\n\u001b[0m\u001b[1;32m     26\u001b[0m     \u001b[0mnew_samples\u001b[0m \u001b[0;34m=\u001b[0m \u001b[0malter_samples_convex\u001b[0m\u001b[0;34m(\u001b[0m\u001b[0mres\u001b[0m\u001b[0;34m.\u001b[0m\u001b[0mx\u001b[0m\u001b[0;34m,\u001b[0m\u001b[0msample_bounds\u001b[0m\u001b[0;34m,\u001b[0m\u001b[0madded_samples\u001b[0m\u001b[0;34m)\u001b[0m\u001b[0;34m\u001b[0m\u001b[0m\n\u001b[1;32m     27\u001b[0m     \u001b[0;32mreturn\u001b[0m \u001b[0mnew_samples\u001b[0m\u001b[0;34m,\u001b[0m\u001b[0mres\u001b[0m\u001b[0;34m.\u001b[0m\u001b[0mx\u001b[0m\u001b[0;34m\u001b[0m\u001b[0m\n",
      "\u001b[0;32m/usr/local/lib/python2.7/dist-packages/scipy/optimize/_minimize.pyc\u001b[0m in \u001b[0;36mminimize\u001b[0;34m(fun, x0, args, method, jac, hess, hessp, bounds, constraints, tol, callback, options)\u001b[0m\n\u001b[1;32m    493\u001b[0m     \u001b[0;32melif\u001b[0m \u001b[0mmeth\u001b[0m \u001b[0;34m==\u001b[0m \u001b[0;34m'slsqp'\u001b[0m\u001b[0;34m:\u001b[0m\u001b[0;34m\u001b[0m\u001b[0m\n\u001b[1;32m    494\u001b[0m         return _minimize_slsqp(fun, x0, args, jac, bounds,\n\u001b[0;32m--> 495\u001b[0;31m                                constraints, callback=callback, **options)\n\u001b[0m\u001b[1;32m    496\u001b[0m     \u001b[0;32melif\u001b[0m \u001b[0mmeth\u001b[0m \u001b[0;34m==\u001b[0m \u001b[0;34m'dogleg'\u001b[0m\u001b[0;34m:\u001b[0m\u001b[0;34m\u001b[0m\u001b[0m\n\u001b[1;32m    497\u001b[0m         return _minimize_dogleg(fun, x0, args, jac, hess,\n",
      "\u001b[0;32m/usr/local/lib/python2.7/dist-packages/scipy/optimize/slsqp.pyc\u001b[0m in \u001b[0;36m_minimize_slsqp\u001b[0;34m(func, x0, args, jac, bounds, constraints, maxiter, ftol, iprint, disp, eps, callback, **unknown_options)\u001b[0m\n\u001b[1;32m    376\u001b[0m \u001b[0;34m\u001b[0m\u001b[0m\n\u001b[1;32m    377\u001b[0m             \u001b[0;31m# Compute objective function\u001b[0m\u001b[0;34m\u001b[0m\u001b[0;34m\u001b[0m\u001b[0m\n\u001b[0;32m--> 378\u001b[0;31m             \u001b[0mfx\u001b[0m \u001b[0;34m=\u001b[0m \u001b[0mfunc\u001b[0m\u001b[0;34m(\u001b[0m\u001b[0mx\u001b[0m\u001b[0;34m)\u001b[0m\u001b[0;34m\u001b[0m\u001b[0m\n\u001b[0m\u001b[1;32m    379\u001b[0m             \u001b[0;32mtry\u001b[0m\u001b[0;34m:\u001b[0m\u001b[0;34m\u001b[0m\u001b[0m\n\u001b[1;32m    380\u001b[0m                 \u001b[0mfx\u001b[0m \u001b[0;34m=\u001b[0m \u001b[0mfloat\u001b[0m\u001b[0;34m(\u001b[0m\u001b[0mnp\u001b[0m\u001b[0;34m.\u001b[0m\u001b[0masarray\u001b[0m\u001b[0;34m(\u001b[0m\u001b[0mfx\u001b[0m\u001b[0;34m)\u001b[0m\u001b[0;34m)\u001b[0m\u001b[0;34m\u001b[0m\u001b[0m\n",
      "\u001b[0;32m/usr/local/lib/python2.7/dist-packages/scipy/optimize/optimize.pyc\u001b[0m in \u001b[0;36mfunction_wrapper\u001b[0;34m(*wrapper_args)\u001b[0m\n\u001b[1;32m    290\u001b[0m     \u001b[0;32mdef\u001b[0m \u001b[0mfunction_wrapper\u001b[0m\u001b[0;34m(\u001b[0m\u001b[0;34m*\u001b[0m\u001b[0mwrapper_args\u001b[0m\u001b[0;34m)\u001b[0m\u001b[0;34m:\u001b[0m\u001b[0;34m\u001b[0m\u001b[0m\n\u001b[1;32m    291\u001b[0m         \u001b[0mncalls\u001b[0m\u001b[0;34m[\u001b[0m\u001b[0;36m0\u001b[0m\u001b[0;34m]\u001b[0m \u001b[0;34m+=\u001b[0m \u001b[0;36m1\u001b[0m\u001b[0;34m\u001b[0m\u001b[0m\n\u001b[0;32m--> 292\u001b[0;31m         \u001b[0;32mreturn\u001b[0m \u001b[0mfunction\u001b[0m\u001b[0;34m(\u001b[0m\u001b[0;34m*\u001b[0m\u001b[0;34m(\u001b[0m\u001b[0mwrapper_args\u001b[0m \u001b[0;34m+\u001b[0m \u001b[0margs\u001b[0m\u001b[0;34m)\u001b[0m\u001b[0;34m)\u001b[0m\u001b[0;34m\u001b[0m\u001b[0m\n\u001b[0m\u001b[1;32m    293\u001b[0m \u001b[0;34m\u001b[0m\u001b[0m\n\u001b[1;32m    294\u001b[0m     \u001b[0;32mreturn\u001b[0m \u001b[0mncalls\u001b[0m\u001b[0;34m,\u001b[0m \u001b[0mfunction_wrapper\u001b[0m\u001b[0;34m\u001b[0m\u001b[0m\n",
      "\u001b[0;32m<ipython-input-108-da8753d3eb3f>\u001b[0m in \u001b[0;36mtest_convex\u001b[0;34m(variables, limit, x_star, samples, func)\u001b[0m\n\u001b[1;32m      3\u001b[0m     \u001b[0;31m# assign the weights\u001b[0m\u001b[0;34m\u001b[0m\u001b[0;34m\u001b[0m\u001b[0m\n\u001b[1;32m      4\u001b[0m \u001b[0;34m\u001b[0m\u001b[0m\n\u001b[0;32m----> 5\u001b[0;31m     \u001b[0mnew_samples\u001b[0m\u001b[0;34m,\u001b[0m\u001b[0mnew_sample_weights\u001b[0m\u001b[0;34m,\u001b[0m\u001b[0mindexs\u001b[0m \u001b[0;34m=\u001b[0m \u001b[0malter_samples_convex\u001b[0m\u001b[0;34m(\u001b[0m\u001b[0mvariables\u001b[0m\u001b[0;34m,\u001b[0m\u001b[0mlimit\u001b[0m\u001b[0;34m,\u001b[0m\u001b[0msamples\u001b[0m\u001b[0;34m)\u001b[0m\u001b[0;34m\u001b[0m\u001b[0m\n\u001b[0m\u001b[1;32m      6\u001b[0m \u001b[0;34m\u001b[0m\u001b[0m\n\u001b[1;32m      7\u001b[0m     \u001b[0;32mreturn\u001b[0m \u001b[0mevaluate\u001b[0m\u001b[0;34m(\u001b[0m\u001b[0mx_star\u001b[0m\u001b[0;34m,\u001b[0m\u001b[0mnew_samples\u001b[0m\u001b[0;34m,\u001b[0m\u001b[0mfunc\u001b[0m\u001b[0;34m,\u001b[0m\u001b[0mweights\u001b[0m\u001b[0;34m=\u001b[0m\u001b[0mnew_sample_weights\u001b[0m\u001b[0;34m)\u001b[0m\u001b[0;34m\u001b[0m\u001b[0m\n",
      "\u001b[0;32m<ipython-input-13-a7d7c5a9934b>\u001b[0m in \u001b[0;36malter_samples_convex\u001b[0;34m(limit, bounds, samples)\u001b[0m\n\u001b[1;32m     17\u001b[0m     \u001b[0;31m# the limit it outside samples\u001b[0m\u001b[0;34m\u001b[0m\u001b[0;34m\u001b[0m\u001b[0m\n\u001b[1;32m     18\u001b[0m     \u001b[0;32mif\u001b[0m \u001b[0mleft_index\u001b[0m \u001b[0;34m>\u001b[0m \u001b[0;36m0\u001b[0m\u001b[0;34m:\u001b[0m\u001b[0;34m\u001b[0m\u001b[0m\n\u001b[0;32m---> 19\u001b[0;31m         \u001b[0mnew_sample_weights\u001b[0m\u001b[0;34m[\u001b[0m\u001b[0mleft_index\u001b[0m\u001b[0;34m]\u001b[0m \u001b[0;34m=\u001b[0m \u001b[0mnp\u001b[0m\u001b[0;34m.\u001b[0m\u001b[0mmaximum\u001b[0m\u001b[0;34m(\u001b[0m\u001b[0;36m1.0\u001b[0m\u001b[0;34m-\u001b[0m\u001b[0mlimit\u001b[0m\u001b[0;34m[\u001b[0m\u001b[0;36m2\u001b[0m\u001b[0;34m]\u001b[0m\u001b[0;34m,\u001b[0m\u001b[0;36m0\u001b[0m\u001b[0;34m)\u001b[0m\u001b[0;34m\u001b[0m\u001b[0m\n\u001b[0m\u001b[1;32m     20\u001b[0m         \u001b[0mnew_sample_weights\u001b[0m\u001b[0;34m[\u001b[0m\u001b[0;36m0\u001b[0m\u001b[0;34m]\u001b[0m \u001b[0;34m=\u001b[0m \u001b[0mlimit\u001b[0m\u001b[0;34m[\u001b[0m\u001b[0;36m2\u001b[0m\u001b[0;34m]\u001b[0m\u001b[0;34m\u001b[0m\u001b[0m\n\u001b[1;32m     21\u001b[0m     \u001b[0;32melse\u001b[0m\u001b[0;34m:\u001b[0m\u001b[0;34m\u001b[0m\u001b[0m\n",
      "\u001b[0;31mIndexError\u001b[0m: index 12 is out of bounds for axis 0 with size 12"
     ]
    }
   ],
   "source": [
    "%time\n",
    "for N in N_samples:\n",
    "    with open('results/wasser_convex_N'+ str(N)+'.csv', 'w') as csvfile:\n",
    "        writer = csv.writer(csvfile, delimiter=',')\n",
    "        writer.writerow(['SAA'] + delta)\n",
    "        n_changed_samples = pd.DataFrame(columns=['SAA'] + delta)\n",
    "        for k in range(n_iter):\n",
    "            # samples from distribution\n",
    "            Sy = Y.rvs(N)\n",
    "            sort_Sy = np.sort(Sy)\n",
    "\n",
    "            x_star = SAA_minimise(sort_Sy,util.f2)\n",
    "            wasser_results = [float(x_star)]\n",
    "            temp = [0]\n",
    "            for d in range(len(delta)):\n",
    "                new_sample,_ = wasser_robustification_convex(sort_Sy,sample_bounds,\n",
    "                                                             x_star,util.f2,delta[d])\n",
    "                new_xstar = SAA_minimise(new_sample[0],util.f2,new_sample[1])\n",
    "\n",
    "                # store rersults\n",
    "                wasser_results += [float(new_xstar)]\n",
    "                temp += [np.sum(1-np.isclose(new_sample[0][1:-1],sort_Sy))]\n",
    "\n",
    "            # write results\n",
    "            n_changed_samples.loc[k,:] =  temp\n",
    "\n",
    "            writer.writerow(wasser_results)\n",
    "            n_changed_samples.to_csv('results/wasser_convex_N'+ str(N)+\n",
    "                                 'changed_samples.csv')"
   ]
  },
  {
   "cell_type": "code",
   "execution_count": null,
   "metadata": {},
   "outputs": [],
   "source": []
  }
 ],
 "metadata": {
  "kernelspec": {
   "display_name": "Python 2",
   "language": "python",
   "name": "python2"
  },
  "language_info": {
   "codemirror_mode": {
    "name": "ipython",
    "version": 2
   },
   "file_extension": ".py",
   "mimetype": "text/x-python",
   "name": "python",
   "nbconvert_exporter": "python",
   "pygments_lexer": "ipython2",
   "version": "2.7.12"
  }
 },
 "nbformat": 4,
 "nbformat_minor": 2
}
