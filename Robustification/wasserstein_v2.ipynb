{
 "cells": [
  {
   "cell_type": "code",
   "execution_count": 1,
   "metadata": {},
   "outputs": [],
   "source": [
    "import numpy as np\n",
    "import matplotlib.pyplot as plt\n",
    "%matplotlib inline\n",
    "import sys\n",
    "sys.path.insert(0, '../')\n",
    "from scipy.optimize import minimize\n",
    "from scipy.stats import beta\n",
    "import util.util as util\n",
    "from util.util import evaluate,SAA_minimise\n",
    "from scipy.stats import wasserstein_distance"
   ]
  },
  {
   "cell_type": "code",
   "execution_count": 2,
   "metadata": {},
   "outputs": [],
   "source": [
    "# beta distribution\n",
    "Y = beta(a = 3,b=3,loc=-1,scale=2)\n",
    "Sy = Y.rvs(50)\n",
    "sort_Sy = np.sort(Sy)"
   ]
  },
  {
   "cell_type": "code",
   "execution_count": 3,
   "metadata": {},
   "outputs": [],
   "source": [
    "def wasserstein_constraint(limit,samples,delta):\n",
    "    distance =np.mean(np.concatenate((limit[0] - samples[limit[0] > samples],\n",
    "               samples[limit[1] < samples] - limit[1])))\n",
    "    return  delta-distance"
   ]
  },
  {
   "cell_type": "code",
   "execution_count": 4,
   "metadata": {},
   "outputs": [],
   "source": [
    "def limit_constraint(limit):\n",
    "    # right hand side must be greater than lefthand side\n",
    "    return limit[1]-limit[0]"
   ]
  },
  {
   "cell_type": "code",
   "execution_count": 5,
   "metadata": {},
   "outputs": [],
   "source": [
    "def plot_sample_change(x_star,Sy,new_y,func):\n",
    "    \n",
    "    # get a plot of the cost function\n",
    "    temp_y = np.linspace(np.min(Sy),np.max(Sy),500)\n",
    "    full_cost = evaluate(x_star,temp_y,func,find_mean=False)\n",
    "    \n",
    "    # get cost of samples\n",
    "    sub_cost = evaluate(x_star,Sy,func,find_mean=False)\n",
    "    # cost of changed samples\n",
    "    altered = evaluate(x_star,new_y,func,find_mean=False)\n",
    "    \n",
    "    # check which samples have changed\n",
    "    changed_index = np.isclose(Sy,new_y,atol=1e-2) == False\n",
    "    \n",
    "    changed_samples = new_y[changed_index]\n",
    "    changed_cost = evaluate(x_star,changed_samples,func,find_mean=False)\n",
    "    original_samples = Sy[changed_index]\n",
    "    original_cost = sub_cost[changed_index]\n",
    "    \n",
    "    # plot the hraph\n",
    "    plt.figure(figsize=(10,8))\n",
    "    plt.plot(temp_y,full_cost,label='cost function')\n",
    "    plt.plot(Sy,sub_cost,'o',label='samples')\n",
    "\n",
    "    plt.plot(changed_samples,original_cost,'o',label='altered samples')\n",
    "    for i in range(len(changed_cost)):\n",
    "        plt.arrow(original_samples[i],\n",
    "                  original_cost[i],\n",
    "                  (changed_samples[i]-original_samples[i])*0.7,\n",
    "                  0,head_width=0.02,length_includes_head=False)\n",
    "    plt.legend()"
   ]
  },
  {
   "cell_type": "code",
   "execution_count": 6,
   "metadata": {},
   "outputs": [],
   "source": [
    "def test(limit,x_star,samples,func):\n",
    "    #new_Sy = np.copy(samples)\n",
    "    #new_Sy[:np.searchsorted(sort_Sy,limit[0],'right')] = limit[0]\n",
    "    #new_Sy[np.searchsorted(sort_Sy,limit[1],'left'):] = limit[1]\n",
    "    \n",
    "    new_Sy = alter_samples(limit,samples)\n",
    "    return -evaluate(x_star,new_Sy,func)"
   ]
  },
  {
   "cell_type": "code",
   "execution_count": 7,
   "metadata": {},
   "outputs": [],
   "source": [
    "def alter_samples(limit,samples):\n",
    "    new_samples = np.copy(samples)\n",
    "    new_samples[:np.searchsorted(samples,limit[0],'right')] = limit[0]\n",
    "    new_samples[np.searchsorted(samples,limit[1],'left'):] = limit[1]\n",
    "    \n",
    "    return new_samples"
   ]
  },
  {
   "cell_type": "code",
   "execution_count": 8,
   "metadata": {},
   "outputs": [],
   "source": [
    "def wasserstein_robustification(samples,x_star,func):\n",
    "    \n",
    "    constraint = [{'type':'ineq','fun':wasserstein_constraint,'args':[samples,delta]},\n",
    "             {'type':'ineq','fun':limit_constraint}]\n",
    "    bound = [(-1,1)]*2\n",
    "    \n",
    "    limit = [samples[1],samples[-2]]\n",
    "    res = minimize(test,limit,args=(x_star,samples,func),\n",
    "                   constraints=constraint,bounds=bound,\n",
    "                  options={'maxiter': 500,\n",
    "                          'ftol': 1e-06})\n",
    "    new_samples = alter_samples(res.x,samples)\n",
    "    return new_samples"
   ]
  },
  {
   "cell_type": "code",
   "execution_count": 12,
   "metadata": {},
   "outputs": [],
   "source": [
    "delta = 0.1\n",
    "x_star = SAA_minimise(sort_Sy,util.f1)\n",
    "new_sample = wasserstein_robustification(sort_Sy,x_star,util.f1)"
   ]
  },
  {
   "cell_type": "code",
   "execution_count": 13,
   "metadata": {},
   "outputs": [
    {
     "data": {
      "text/plain": [
       "0.010000000000014782"
      ]
     },
     "execution_count": 13,
     "metadata": {},
     "output_type": "execute_result"
    }
   ],
   "source": [
    "wasserstein_distance(np.sort(Sy),new_sample)"
   ]
  },
  {
   "cell_type": "code",
   "execution_count": 14,
   "metadata": {},
   "outputs": [
    {
     "data": {
      "image/png": "[encoded data removed]",
      "text/plain": [
       "<Figure size 720x576 with 1 Axes>"
      ]
     },
     "metadata": {},
     "output_type": "display_data"
    }
   ],
   "source": [
    "plot_sample_change(x_star,np.sort(Sy),new_sample,util.f1)"
   ]
  },
  {
   "cell_type": "code",
   "execution_count": 476,
   "metadata": {},
   "outputs": [],
   "source": [
    "def wasserstein_constraint_convex(variables,bounds,samples,delta):\n",
    "    \"\"\"\n",
    "    in convex functions, the limit is fixed,\n",
    "    what we try to do is determine the number of samples to move\n",
    "    to that limit and the fraction of movement\n",
    "    \n",
    "    variables[0] and variables[1] is the index, left and right respectively\n",
    "    variables[2] and variables[3] are weights, elft and right respectively\n",
    "    \"\"\"\n",
    "    #left = samples[:int(variables[0])+1] - bounds[0]\n",
    "    # the last element is \"fractionally\" moved\n",
    "    #left[-1] *= variables[2]\n",
    "    left = samples[:np.searchsorted(samples,variables[0],'left')] - bounds[0]\n",
    "    #left = samples[samples < variables[0]] - bounds[0]\n",
    "    \n",
    "    # do the same for the right side\n",
    "    #right =  samples[int(variables[1])+1:] - bounds[1]\n",
    "    right = bounds[1]- samples[np.searchsorted(samples,variables[1],'left'):]  \n",
    "    #right = bounds[1] - samples[samples > variables[1]] \n",
    "    \n",
    "    print right\n",
    "    print left\n",
    "\n",
    "    if left.shape[0] > 0:\n",
    "        left[-1] *= variables[2]\n",
    "        \n",
    "    if right.shape[0] > 0:\n",
    "        right[0] *= variables[3] \n",
    "        \n",
    "    if right.shape[0] <= 1 and left.shape[0] <= 1:\n",
    "        distance = 0.0\n",
    "    else:\n",
    "        distance =np.mean(np.concatenate((right[:-1], left[1:])))\n",
    "    return distance-delta"
   ]
  },
  {
   "cell_type": "code",
   "execution_count": 477,
   "metadata": {},
   "outputs": [],
   "source": [
    "def alter_samples_convex(limit,bounds,samples):\n",
    "    \n",
    "    new_samples = np.copy(samples)\n",
    "    #new_samples[:np.searchsorted(samples,limit[0],'left')] = bounds[0]\n",
    "    #new_samples[np.searchsorted(samples,limit[1],'right'):] = bounds[1]\n",
    "    new_samples[samples < limit[0]] = bounds[0]\n",
    "    new_samples[samples > limit[1]] = bounds[1]\n",
    "\n",
    "    return new_samples"
   ]
  },
  {
   "cell_type": "code",
   "execution_count": 353,
   "metadata": {},
   "outputs": [],
   "source": [
    "added_samples = np.insert(sort_Sy,[0,sort_Sy.shape[0]],[-1.0,1.0])"
   ]
  },
  {
   "cell_type": "code",
   "execution_count": 354,
   "metadata": {},
   "outputs": [
    {
     "data": {
      "text/plain": [
       "array([-1.        , -0.70976326, -0.65859712, -0.60625061, -0.57639344,\n",
       "       -0.49582434, -0.48796813, -0.47254933, -0.46138149, -0.3976364 ,\n",
       "       -0.35797347, -0.33442128, -0.32535032, -0.28732917, -0.27741054,\n",
       "       -0.27256382, -0.20160763, -0.19702831, -0.17940559, -0.17560546,\n",
       "       -0.17466223, -0.10525637, -0.09298845, -0.08754827, -0.05567361,\n",
       "       -0.04760166, -0.02261089, -0.01633299,  0.0114786 ,  0.01463854,\n",
       "        0.04184438,  0.05520471,  0.10184153,  0.10624456,  0.18258839,\n",
       "        0.19172843,  0.23133669,  0.30117998,  0.31890023,  0.36893528,\n",
       "        0.37038242,  0.3759512 ,  0.39610955,  0.42042492,  0.5009669 ,\n",
       "        0.52397473,  0.60405751,  0.67812705,  0.68859022,  0.72222638,\n",
       "        0.79947959,  1.        ])"
      ]
     },
     "execution_count": 354,
     "metadata": {},
     "output_type": "execute_result"
    }
   ],
   "source": [
    "added_samples"
   ]
  },
  {
   "cell_type": "code",
   "execution_count": 355,
   "metadata": {},
   "outputs": [
    {
     "data": {
      "text/plain": [
       "4.639862974734573"
      ]
     },
     "execution_count": 355,
     "metadata": {},
     "output_type": "execute_result"
    }
   ],
   "source": [
    "wasserstein_constraint_convex([-0.44,0.7,0.5,0.5],[-1.0,1.0],added_samples,delta)"
   ]
  },
  {
   "cell_type": "code",
   "execution_count": 356,
   "metadata": {},
   "outputs": [],
   "source": [
    "new_samples = alter_samples_convex([-0.40,0.6],[-1.0,1.0],added_samples)"
   ]
  },
  {
   "cell_type": "code",
   "execution_count": 357,
   "metadata": {},
   "outputs": [
    {
     "data": {
      "text/plain": [
       "array([-1.        , -1.        , -1.        , -1.        , -1.        ,\n",
       "       -1.        , -1.        , -1.        , -1.        , -0.3976364 ,\n",
       "       -0.35797347, -0.33442128, -0.32535032, -0.28732917, -0.27741054,\n",
       "       -0.27256382, -0.20160763, -0.19702831, -0.17940559, -0.17560546,\n",
       "       -0.17466223, -0.10525637, -0.09298845, -0.08754827, -0.05567361,\n",
       "       -0.04760166, -0.02261089, -0.01633299,  0.0114786 ,  0.01463854,\n",
       "        0.04184438,  0.05520471,  0.10184153,  0.10624456,  0.18258839,\n",
       "        0.19172843,  0.23133669,  0.30117998,  0.31890023,  0.36893528,\n",
       "        0.37038242,  0.3759512 ,  0.39610955,  0.42042492,  0.5009669 ,\n",
       "        0.52397473,  1.        ,  1.        ,  1.        ,  1.        ,\n",
       "        1.        ,  1.        ])"
      ]
     },
     "execution_count": 357,
     "metadata": {},
     "output_type": "execute_result"
    }
   ],
   "source": [
    "new_samples"
   ]
  },
  {
   "cell_type": "code",
   "execution_count": 358,
   "metadata": {},
   "outputs": [
    {
     "data": {
      "text/plain": [
       "array([-1.        , -0.70976326, -0.65859712, -0.60625061, -0.57639344,\n",
       "       -0.49582434, -0.48796813, -0.47254933, -0.46138149, -0.3976364 ,\n",
       "       -0.35797347, -0.33442128, -0.32535032, -0.28732917, -0.27741054,\n",
       "       -0.27256382, -0.20160763, -0.19702831, -0.17940559, -0.17560546,\n",
       "       -0.17466223, -0.10525637, -0.09298845, -0.08754827, -0.05567361,\n",
       "       -0.04760166, -0.02261089, -0.01633299,  0.0114786 ,  0.01463854,\n",
       "        0.04184438,  0.05520471,  0.10184153,  0.10624456,  0.18258839,\n",
       "        0.19172843,  0.23133669,  0.30117998,  0.31890023,  0.36893528,\n",
       "        0.37038242,  0.3759512 ,  0.39610955,  0.42042492,  0.5009669 ,\n",
       "        0.52397473,  0.60405751,  0.67812705,  0.68859022,  0.72222638,\n",
       "        0.79947959,  1.        ])"
      ]
     },
     "execution_count": 358,
     "metadata": {},
     "output_type": "execute_result"
    }
   ],
   "source": [
    "added_samples"
   ]
  },
  {
   "cell_type": "code",
   "execution_count": 359,
   "metadata": {},
   "outputs": [
    {
     "data": {
      "text/plain": [
       "0.5055398131519805"
      ]
     },
     "execution_count": 359,
     "metadata": {},
     "output_type": "execute_result"
    }
   ],
   "source": [
    "test_convex([-0.4,0.6,0.5,0.5],[-1,1],x_star,added_samples,util.f2)"
   ]
  },
  {
   "cell_type": "code",
   "execution_count": 478,
   "metadata": {},
   "outputs": [],
   "source": [
    "def test_convex(variables,limit,x_star,samples,func):\n",
    "    # just remember we have samples = [bound_neg, x0,x1,x2,...,xn,bound_pos]\n",
    "    # assign the weights\n",
    "    weights = np.ones((samples.shape[0]))\n",
    "    # at the lefthand side, thr weight is a fraction of one\n",
    "    if sum(samples<variables[0]) <= 1:\n",
    "        weights[0] = 0\n",
    "    else:\n",
    "        weights[0] = variables[2]\n",
    "        index = np.searchsorted(samples,variables[0],'left')\n",
    "        weights[index-1] = 1 - variables[2]\n",
    "        #weights[[samples<variables[0]][-1]] = 1 - variables[2]\n",
    "    if sum(samples>variables[1]) <= 1:\n",
    "        weights[-1] = 0\n",
    "    else:\n",
    "        weights[-1] = variables[3]\n",
    "        index = np.searchsorted(samples,variables[1],'right')\n",
    "        weights[index] = 1 - variables[3]\n",
    "    print weights\n",
    "    new_S = alter_samples_convex(variables[:2],limit,samples)\n",
    "    return evaluate(x_star,new_S,func,weights=weights)"
   ]
  },
  {
   "cell_type": "code",
   "execution_count": 487,
   "metadata": {},
   "outputs": [],
   "source": [
    "def wasser_robustification_convex(samples,sample_bounds,x_star,func):\n",
    "    # sort the samples\n",
    "    samples = np.sort(samples)\n",
    "    # added limits for computations\n",
    "    added_samples = np.insert(samples,[0,samples.shape[0]],[-1.0,1.0])\n",
    "    \n",
    "    # constraints and bounds\n",
    "    constraint = [{'type':'ineq','fun':wasserstein_constraint_convex,\n",
    "                   'args':[sample_bounds,added_samples,delta]},\n",
    "             {'type':'ineq','fun':limit_constraint}]\n",
    "            #{'type':'eq','fun': lambda x : max([x[i]-int(x[i]) for i in range(2)])}]\n",
    "    bound = [sample_bounds,sample_bounds,(0,1),(0,1)]\n",
    "    \n",
    "    # initial guess\n",
    "    # index 0, shape+1 means no movement,\n",
    "    initial_variable = [samples[5],samples[-5],0.5,0.5]\n",
    "    \n",
    "    \n",
    "    \n",
    "    res = minimize(test_convex,initial_variable,args=(sample_bounds,x_star,added_samples,func),\n",
    "                   constraints=constraint,bounds=bound,\n",
    "                  options={'maxiter': 1000,\n",
    "                          'ftol': 1e-06})\n",
    "    new_samples = alter_samples_convex(res.x,sample_bounds,added_samples)\n",
    "    return new_samples[1:-1],res.x"
   ]
  },
  {
   "cell_type": "code",
   "execution_count": 488,
   "metadata": {},
   "outputs": [],
   "source": [
    "Sy = Y.rvs(50)\n",
    "sort_Sy = np.sort(Sy)"
   ]
  },
  {
   "cell_type": "code",
   "execution_count": 489,
   "metadata": {},
   "outputs": [],
   "source": [
    "delta = 5.0\n",
    "x_star = SAA_minimise(sort_Sy,util.f2)"
   ]
  },
  {
   "cell_type": "code",
   "execution_count": 490,
   "metadata": {},
   "outputs": [
    {
     "name": "stdout",
     "output_type": "stream",
     "text": [
      "[0.42885841 0.41042773 0.32885888 0.14965098 0.13608635 0.        ]\n",
      "[0.         0.28277663 0.2899489  0.35728368 0.35818622 0.46688191]\n",
      "[0.5 1.  1.  1.  1.  0.5 1.  1.  1.  1.  1.  1.  1.  1.  1.  1.  1.  1.\n",
      " 1.  1.  1.  1.  1.  1.  1.  1.  1.  1.  1.  1.  1.  1.  1.  1.  1.  1.\n",
      " 1.  1.  1.  1.  1.  1.  1.  1.  1.  1.  1.  0.5 1.  1.  1.  0.5]\n",
      "[0.42885841 0.41042773 0.32885888 0.14965098 0.13608635 0.        ]\n",
      "[0.         0.28277663 0.2899489  0.35728368 0.35818622 0.46688191]\n",
      "[0.5 1.  1.  1.  1.  0.5 1.  1.  1.  1.  1.  1.  1.  1.  1.  1.  1.  1.\n",
      " 1.  1.  1.  1.  1.  1.  1.  1.  1.  1.  1.  1.  1.  1.  1.  1.  1.  1.\n",
      " 1.  1.  1.  1.  1.  1.  1.  1.  1.  1.  1.  0.5 1.  1.  1.  0.5]\n",
      "[0.5 1.  1.  1.  1.  1.  0.5 1.  1.  1.  1.  1.  1.  1.  1.  1.  1.  1.\n",
      " 1.  1.  1.  1.  1.  1.  1.  1.  1.  1.  1.  1.  1.  1.  1.  1.  1.  1.\n",
      " 1.  1.  1.  1.  1.  1.  1.  1.  1.  1.  1.  0.5 1.  1.  1.  0.5]\n",
      "[0.5 1.  1.  1.  1.  0.5 1.  1.  1.  1.  1.  1.  1.  1.  1.  1.  1.  1.\n",
      " 1.  1.  1.  1.  1.  1.  1.  1.  1.  1.  1.  1.  1.  1.  1.  1.  1.  1.\n",
      " 1.  1.  1.  1.  1.  1.  1.  1.  1.  1.  1.  0.5 1.  1.  1.  0.5]\n",
      "[0.50000001 1.         1.         1.         1.         0.49999999\n",
      " 1.         1.         1.         1.         1.         1.\n",
      " 1.         1.         1.         1.         1.         1.\n",
      " 1.         1.         1.         1.         1.         1.\n",
      " 1.         1.         1.         1.         1.         1.\n",
      " 1.         1.         1.         1.         1.         1.\n",
      " 1.         1.         1.         1.         1.         1.\n",
      " 1.         1.         1.         1.         1.         0.5\n",
      " 1.         1.         1.         0.5       ]\n",
      "[0.5        1.         1.         1.         1.         0.5\n",
      " 1.         1.         1.         1.         1.         1.\n",
      " 1.         1.         1.         1.         1.         1.\n",
      " 1.         1.         1.         1.         1.         1.\n",
      " 1.         1.         1.         1.         1.         1.\n",
      " 1.         1.         1.         1.         1.         1.\n",
      " 1.         1.         1.         1.         1.         1.\n",
      " 1.         1.         1.         1.         1.         0.49999999\n",
      " 1.         1.         1.         0.50000001]\n",
      "[0.42885841 0.41042773 0.32885888 0.14965098 0.13608635 0.        ]\n",
      "[0.         0.28277663 0.2899489  0.35728368 0.35818622 0.46688191]\n",
      "[0.42885841 0.41042773 0.32885888 0.14965098 0.13608635 0.        ]\n",
      "[0.         0.28277663 0.2899489  0.35728368 0.35818622 0.46688191\n",
      " 0.53559847]\n",
      "[0.41042773 0.32885888 0.14965098 0.13608635 0.        ]\n",
      "[0.         0.28277663 0.2899489  0.35728368 0.35818622 0.46688191]\n",
      "[0.42885841 0.41042773 0.32885888 0.14965098 0.13608635 0.        ]\n",
      "[0.         0.28277663 0.2899489  0.35728368 0.35818622 0.46688191]\n",
      "[0.42885841 0.41042773 0.32885888 0.14965098 0.13608635 0.        ]\n",
      "[0.         0.28277663 0.2899489  0.35728368 0.35818622 0.46688191]\n"
     ]
    }
   ],
   "source": [
    "sample_bounds = [-1,1]\n",
    "new_sample,var = wasser_robustification_convex(sort_Sy,sample_bounds,x_star,util.f2)"
   ]
  },
  {
   "cell_type": "code",
   "execution_count": 491,
   "metadata": {},
   "outputs": [
    {
     "data": {
      "text/plain": [
       "array([-1.00000000e+00, -1.00000000e+00, -1.00000000e+00, -1.00000000e+00,\n",
       "       -1.00000000e+00, -4.64401533e-01, -4.41442809e-01, -3.75682284e-01,\n",
       "       -3.39357780e-01, -3.15372357e-01, -2.65424475e-01, -2.35328871e-01,\n",
       "       -2.02580959e-01, -1.89379060e-01, -1.40228619e-01, -1.13251416e-01,\n",
       "       -8.58832917e-02, -5.53723075e-02, -2.10376434e-02, -4.46150055e-03,\n",
       "        1.50875565e-04,  2.33650946e-02,  5.10833210e-02,  6.58187863e-02,\n",
       "        7.93536976e-02,  9.35607915e-02,  1.00908104e-01,  1.16137076e-01,\n",
       "        1.18388446e-01,  1.25225857e-01,  1.50698598e-01,  1.68418661e-01,\n",
       "        1.75591074e-01,  2.17516080e-01,  2.23503488e-01,  2.31047499e-01,\n",
       "        2.88133215e-01,  3.03869379e-01,  3.52620884e-01,  3.74207237e-01,\n",
       "        3.91531851e-01,  4.16573581e-01,  4.60745160e-01,  5.19180768e-01,\n",
       "        5.47425446e-01,  5.71141587e-01,  1.00000000e+00,  1.00000000e+00,\n",
       "        1.00000000e+00,  1.00000000e+00])"
      ]
     },
     "execution_count": 491,
     "metadata": {},
     "output_type": "execute_result"
    }
   ],
   "source": [
    "new_sample"
   ]
  },
  {
   "cell_type": "code",
   "execution_count": 492,
   "metadata": {},
   "outputs": [
    {
     "data": {
      "text/plain": [
       "array([-0.46440153,  0.57114159,  0.5       ,  0.5       ])"
      ]
     },
     "execution_count": 492,
     "metadata": {},
     "output_type": "execute_result"
    }
   ],
   "source": [
    "var"
   ]
  },
  {
   "cell_type": "code",
   "execution_count": 493,
   "metadata": {},
   "outputs": [
    {
     "name": "stdout",
     "output_type": "stream",
     "text": [
      "[0.39594249 0.32187295 0.31140978 0.27777362 0.20052041 0.        ]\n",
      "[0.         0.29023674 0.34140288 0.39374939 0.42360656 0.50417566\n",
      " 0.51203187 0.52745067]\n"
     ]
    },
    {
     "data": {
      "text/plain": [
       "-4.663460295832051"
      ]
     },
     "execution_count": 493,
     "metadata": {},
     "output_type": "execute_result"
    }
   ],
   "source": [
    "wasserstein_constraint_convex(var,sample_bounds,added_samples,delta)"
   ]
  },
  {
   "cell_type": "code",
   "execution_count": 494,
   "metadata": {},
   "outputs": [
    {
     "name": "stdout",
     "output_type": "stream",
     "text": [
      "[0.5 1.  1.  1.  0.5 1.  1.  1.  1.  1.  1.  1.  1.  1.  1.  1.  1.  1.\n",
      " 1.  1.  1.  1.  1.  1.  1.  1.  1.  1.  1.  1.  1.  1.  1.  1.  1.  1.\n",
      " 1.  1.  1.  1.  1.  1.  1.  1.  1.  1.  0.5 1.  1.  0.5]\n"
     ]
    },
    {
     "data": {
      "text/plain": [
       "-1.3523973738934039"
      ]
     },
     "execution_count": 494,
     "metadata": {},
     "output_type": "execute_result"
    }
   ],
   "source": [
    "test_convex(var,sample_bounds,x_star,new_sample,util.f2)"
   ]
  },
  {
   "cell_type": "code",
   "execution_count": null,
   "metadata": {},
   "outputs": [],
   "source": []
  },
  {
   "cell_type": "code",
   "execution_count": null,
   "metadata": {},
   "outputs": [],
   "source": []
  }
 ],
 "metadata": {
  "kernelspec": {
   "display_name": "Python 2",
   "language": "python",
   "name": "python2"
  },
  "language_info": {
   "codemirror_mode": {
    "name": "ipython",
    "version": 2
   },
   "file_extension": ".py",
   "mimetype": "text/x-python",
   "name": "python",
   "nbconvert_exporter": "python",
   "pygments_lexer": "ipython2",
   "version": "2.7.12"
  }
 },
 "nbformat": 4,
 "nbformat_minor": 2
}
