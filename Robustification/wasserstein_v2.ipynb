{
 "cells": [
  {
   "cell_type": "code",
   "execution_count": 1,
   "metadata": {},
   "outputs": [],
   "source": [
    "import numpy as np\n",
    "import matplotlib.pyplot as plt\n",
    "%matplotlib inline\n",
    "import sys\n",
    "sys.path.insert(0, '../')\n",
    "from scipy.optimize import minimize\n",
    "from scipy.stats import beta\n",
    "import util.util as util\n",
    "from util.util import evaluate,SAA_minimise\n",
    "from scipy.stats import wasserstein_distance"
   ]
  },
  {
   "cell_type": "code",
   "execution_count": 144,
   "metadata": {},
   "outputs": [],
   "source": [
    "# beta distribution\n",
    "Y = beta(a = 3,b=3,loc=-1,scale=2)\n",
    "Sy = Y.rvs(50)\n",
    "sort_Sy = np.sort(Sy)"
   ]
  },
  {
   "cell_type": "code",
   "execution_count": 145,
   "metadata": {},
   "outputs": [],
   "source": [
    "def wasserstein_constraint(limit,samples,delta):\n",
    "    distance =np.mean(np.concatenate((limit[0] - samples[limit[0] > samples],\n",
    "               samples[limit[1] < samples] - limit[1])))\n",
    "    return  delta-distance"
   ]
  },
  {
   "cell_type": "code",
   "execution_count": 146,
   "metadata": {},
   "outputs": [],
   "source": [
    "def limit_constraint(limit):\n",
    "    # right hand side must be greater than lefthand side\n",
    "    return limit[1]-limit[0]"
   ]
  },
  {
   "cell_type": "code",
   "execution_count": 147,
   "metadata": {},
   "outputs": [],
   "source": [
    "def plot_sample_change(x_star,Sy,new_y,func):\n",
    "    \n",
    "    # get a plot of the cost function\n",
    "    temp_y = np.linspace(np.min(Sy),np.max(Sy),500)\n",
    "    full_cost = evaluate(x_star,temp_y,func,find_mean=False)\n",
    "    \n",
    "    # get cost of samples\n",
    "    sub_cost = evaluate(x_star,Sy,func,find_mean=False)\n",
    "    # cost of changed samples\n",
    "    altered = evaluate(x_star,new_y,func,find_mean=False)\n",
    "    \n",
    "    # check which samples have changed\n",
    "    changed_index = np.isclose(Sy,new_y,atol=1e-2) == False\n",
    "    \n",
    "    changed_samples = new_y[changed_index]\n",
    "    changed_cost = evaluate(x_star,changed_samples,func,find_mean=False)\n",
    "    original_samples = Sy[changed_index]\n",
    "    original_cost = sub_cost[changed_index]\n",
    "    \n",
    "    # plot the hraph\n",
    "    plt.figure(figsize=(10,8))\n",
    "    plt.plot(temp_y,full_cost,label='cost function')\n",
    "    plt.plot(Sy,sub_cost,'o',label='samples')\n",
    "\n",
    "    plt.plot(changed_samples,original_cost,'o',label='altered samples')\n",
    "    for i in range(len(changed_cost)):\n",
    "        plt.arrow(original_samples[i],\n",
    "                  original_cost[i],\n",
    "                  (changed_samples[i]-original_samples[i])*0.7,\n",
    "                  0,head_width=0.02,length_includes_head=False)\n",
    "    plt.legend()"
   ]
  },
  {
   "cell_type": "code",
   "execution_count": 148,
   "metadata": {},
   "outputs": [],
   "source": [
    "def test(limit,x_star,samples,func):\n",
    "    #new_Sy = np.copy(samples)\n",
    "    #new_Sy[:np.searchsorted(sort_Sy,limit[0],'right')] = limit[0]\n",
    "    #new_Sy[np.searchsorted(sort_Sy,limit[1],'left'):] = limit[1]\n",
    "    \n",
    "    new_Sy = alter_samples(limit,samples)\n",
    "    return -evaluate(x_star,new_Sy,func)"
   ]
  },
  {
   "cell_type": "code",
   "execution_count": 149,
   "metadata": {},
   "outputs": [],
   "source": [
    "def alter_samples(limit,samples):\n",
    "    new_samples = np.copy(samples)\n",
    "    new_samples[:np.searchsorted(samples,limit[0],'right')] = limit[0]\n",
    "    new_samples[np.searchsorted(samples,limit[1],'left'):] = limit[1]\n",
    "    \n",
    "    return new_samples"
   ]
  },
  {
   "cell_type": "code",
   "execution_count": 155,
   "metadata": {},
   "outputs": [],
   "source": [
    "def wasserstein_robustification(samples,x_star,func):\n",
    "    \n",
    "    constraint = [{'type':'ineq','fun':wasserstein_constraint,'args':[samples,delta]},\n",
    "             {'type':'ineq','fun':limit_constraint}]\n",
    "    bound = [(-1,1)]*2\n",
    "    \n",
    "    limit = [samples[1],samples[-2]]\n",
    "    res = minimize(test,limit,args=(x_star,samples,func),\n",
    "                   constraints=constraint,bounds=bound,\n",
    "                  options={'maxiter': 500,\n",
    "                          'ftol': 1e-06})\n",
    "    new_samples = alter_samples(res.x,samples)\n",
    "    return new_samples"
   ]
  },
  {
   "cell_type": "code",
   "execution_count": 157,
   "metadata": {},
   "outputs": [],
   "source": [
    "new_sample = wasserstein_robustification(sort_Sy,x_star,util.f1)"
   ]
  },
  {
   "cell_type": "code",
   "execution_count": 158,
   "metadata": {},
   "outputs": [
    {
     "data": {
      "text/plain": [
       "0.01728934547691227"
      ]
     },
     "execution_count": 158,
     "metadata": {},
     "output_type": "execute_result"
    }
   ],
   "source": [
    "wasserstein_distance(np.sort(Sy),new_sample)"
   ]
  },
  {
   "cell_type": "code",
   "execution_count": 159,
   "metadata": {},
   "outputs": [
    {
     "data": {
      "image/png": "[encoded data removed]",
      "text/plain": [
       "<Figure size 720x576 with 1 Axes>"
      ]
     },
     "metadata": {},
     "output_type": "display_data"
    }
   ],
   "source": [
    "plot_sample_change(x_star,np.sort(Sy),new_sample,util.f1)"
   ]
  },
  {
   "cell_type": "code",
   "execution_count": 522,
   "metadata": {},
   "outputs": [],
   "source": [
    "def wasserstein_constraint_convex(variables,bounds,samples,delta):\n",
    "    \"\"\"\n",
    "    in convex functions, the limit is fixed,\n",
    "    what we try to do is determine the number of samples to move\n",
    "    to that limit and the fraction of movement\n",
    "    \n",
    "    variables[0] and variables[1] is the index, left and right respectively\n",
    "    variables[2] and variables[3] are weights, elft and right respectively\n",
    "    \"\"\"\n",
    "    left = samples[:int(variables[0])+1] - bounds[0]\n",
    "    # the last element is \"fractionally\" moved\n",
    "    left[-1] *= variables[2]\n",
    "    \n",
    "    # do the same for the right side\n",
    "    right =  samples[int(variables[1])+1:] - bounds[1]\n",
    "\n",
    "    right[0] *= variables[3]\n",
    "    \n",
    "    if right.shape[0] == 1 and left.shape[0] == 1:\n",
    "        distance = 0.0\n",
    "    else:\n",
    "        distance =np.mean(np.concatenate((right[:-1], left[1:])))\n",
    "    return delta-distance"
   ]
  },
  {
   "cell_type": "code",
   "execution_count": 523,
   "metadata": {},
   "outputs": [],
   "source": [
    "def alter_samples_convex(index,limit,samples):\n",
    "    new_samples = np.copy(samples)\n",
    "    \n",
    "    # move left side samples to the left limit\n",
    "    new_samples[:int(index[0])] = limit[0]\n",
    "    #new_samples = np.insert(new_samples,int(index[0]),limit[0])\n",
    "    \n",
    "    # similarly for the right\n",
    "    new_samples[int(index[1])+1:] = limit[1]\n",
    "    #new_samples = np.insert(new_samples,int(index[1])+2,limit[1])\n",
    "    return new_samples"
   ]
  },
  {
   "cell_type": "code",
   "execution_count": 524,
   "metadata": {},
   "outputs": [],
   "source": [
    "def test_convex(variables,limit,x_star,samples,func):\n",
    "    # just remember we have samples = [bound_neg, x0,x1,x2,...,xn,bound_pos]\n",
    "    # assign the weights\n",
    "    weights = np.ones((samples.shape[0]))\n",
    "    # at the lefthand side, thr weight is a fraction of one\n",
    "    weights[0] = variables[2]\n",
    "    weights[int(variables[0])] = 1 - variables[2]\n",
    "    \n",
    "    weights[-1] = variables[3]\n",
    "    weights[int(variables[1]+1)] = 1 - variables[3]\n",
    "    \n",
    "    new_S = alter_samples_convex(variables[:2],limit,samples)\n",
    "    return -evaluate(x_star,new_S,func,weights=weights)"
   ]
  },
  {
   "cell_type": "code",
   "execution_count": 557,
   "metadata": {},
   "outputs": [],
   "source": [
    "def wasser_robustification_convex(samples,sample_bounds,x_star,func):\n",
    "    # sort the samples\n",
    "    samples = np.sort(samples)\n",
    "    # added limits for computations\n",
    "    added_samples = np.insert(samples,[0,samples.shape[0]],[-1.0,1.0])\n",
    "    \n",
    "    # constraints and bounds\n",
    "    constraint = [{'type':'eq','fun':wasserstein_constraint_convex,\n",
    "                   'args':[sample_bounds,added_samples,delta]},\n",
    "             {'type':'ineq','fun':limit_constraint},\n",
    "            {'type':'eq','fun': lambda x : max([x[i]-int(x[i]) for i in range(2)])}]\n",
    "    bound = [(0,samples.shape[0]),(0,samples.shape[0]),(0,1),(0,1)]\n",
    "    \n",
    "    # initial guess\n",
    "    # index 0, shape+1 means no movement,\n",
    "    initial_variable = [1,15,0.5,0.5]\n",
    "    \n",
    "    \n",
    "    \n",
    "    res = minimize(test_convex,initial_variable,args=(sample_bounds,x_star,added_samples,func),\n",
    "                   constraints=constraint,bounds=bound,\n",
    "                  options={'maxiter': 1000,\n",
    "                          'ftol': 1e-06})\n",
    "    new_samples = alter_samples_convex(res.x,sample_bounds,added_samples)\n",
    "    return new_samples,res.x"
   ]
  },
  {
   "cell_type": "code",
   "execution_count": 558,
   "metadata": {},
   "outputs": [],
   "source": [
    "Sy = Y.rvs(50)\n",
    "sort_Sy = np.sort(Sy)"
   ]
  },
  {
   "cell_type": "code",
   "execution_count": 584,
   "metadata": {},
   "outputs": [],
   "source": [
    "delta = 2.0\n",
    "x_star = SAA_minimise(sort_Sy,util.f2)"
   ]
  },
  {
   "cell_type": "code",
   "execution_count": 585,
   "metadata": {},
   "outputs": [],
   "source": [
    "sample_bounds = [-1,1]\n",
    "new_sample,var = wasser_robustification_convex(sort_Sy,sample_bounds,x_star,util.f2)"
   ]
  },
  {
   "cell_type": "code",
   "execution_count": 586,
   "metadata": {},
   "outputs": [
    {
     "data": {
      "text/plain": [
       "array([-1.        , -0.80715502, -0.73483356, -0.68666797, -0.52425491,\n",
       "       -0.47797873, -0.44073606, -0.4212841 , -0.41406998, -0.39870632,\n",
       "       -0.39138943, -0.35957647, -0.28974083, -0.24588815, -0.23557281,\n",
       "        1.        ,  1.        ,  1.        ,  1.        ,  1.        ,\n",
       "        1.        ,  1.        ,  1.        ,  1.        ,  1.        ,\n",
       "        1.        ,  1.        ,  1.        ,  1.        ,  1.        ,\n",
       "        1.        ,  1.        ,  1.        ,  1.        ,  1.        ,\n",
       "        1.        ,  1.        ,  1.        ,  1.        ,  1.        ,\n",
       "        1.        ,  1.        ,  1.        ,  1.        ,  1.        ,\n",
       "        1.        ,  1.        ,  1.        ,  1.        ,  1.        ,\n",
       "        1.        ,  1.        ])"
      ]
     },
     "execution_count": 586,
     "metadata": {},
     "output_type": "execute_result"
    }
   ],
   "source": [
    "new_sample"
   ]
  },
  {
   "cell_type": "code",
   "execution_count": 587,
   "metadata": {},
   "outputs": [
    {
     "data": {
      "text/plain": [
       "array([ 1., 15.,  1.,  0.])"
      ]
     },
     "execution_count": 587,
     "metadata": {},
     "output_type": "execute_result"
    }
   ],
   "source": [
    "var"
   ]
  },
  {
   "cell_type": "code",
   "execution_count": 588,
   "metadata": {},
   "outputs": [
    {
     "data": {
      "text/plain": [
       "0.09478797340286685"
      ]
     },
     "execution_count": 588,
     "metadata": {},
     "output_type": "execute_result"
    }
   ],
   "source": [
    "wasserstein_constraint_convex(var,sample_bounds,new_sample,0.1)"
   ]
  },
  {
   "cell_type": "code",
   "execution_count": null,
   "metadata": {},
   "outputs": [],
   "source": []
  },
  {
   "cell_type": "code",
   "execution_count": null,
   "metadata": {},
   "outputs": [],
   "source": []
  }
 ],
 "metadata": {
  "kernelspec": {
   "display_name": "Python 2",
   "language": "python",
   "name": "python2"
  },
  "language_info": {
   "codemirror_mode": {
    "name": "ipython",
    "version": 2
   },
   "file_extension": ".py",
   "mimetype": "text/x-python",
   "name": "python",
   "nbconvert_exporter": "python",
   "pygments_lexer": "ipython2",
   "version": "2.7.12"
  }
 },
 "nbformat": 4,
 "nbformat_minor": 2
}
