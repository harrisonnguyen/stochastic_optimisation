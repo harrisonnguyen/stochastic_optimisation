{
 "cells": [
  {
   "cell_type": "code",
   "execution_count": 11,
   "metadata": {},
   "outputs": [],
   "source": [
    "import sys\n",
    "sys.path.insert(0, '../')\n",
    "from util import util\n",
    "import numpy as np\n",
    "import scipy.stats as st\n",
    "\n",
    "import matplotlib.pyplot as plt\n",
    "\n",
    "from scipy.optimize import minimize\n",
    "import pymc3 as pm\n",
    "import pandas as pd\n",
    "import seaborn as sns"
   ]
  },
  {
   "cell_type": "code",
   "execution_count": 16,
   "metadata": {},
   "outputs": [],
   "source": [
    "import pymc3.sampling as sampling"
   ]
  },
  {
   "cell_type": "code",
   "execution_count": 2,
   "metadata": {},
   "outputs": [],
   "source": [
    "x = np.arange (-1, 1, 0.01)\n",
    "\n",
    "#Y1 = st.beta(a = 2,b=5,loc=-1,scale=2)\n",
    "Y1 = st.beta(a = 2,b=2,loc=-1,scale=2)"
   ]
  },
  {
   "cell_type": "code",
   "execution_count": 63,
   "metadata": {},
   "outputs": [],
   "source": [
    "samples = Y1.rvs(10)\n",
    "\n",
    "N_SAMPLES = 1000\n",
    "#sample_min = np.min(samples)\n",
    "#sample_max = np.max(samples)\n",
    "#scaled_samples = (samples - sample_min*1.02)/(sample_max-sample_min+0.04)"
   ]
  },
  {
   "cell_type": "code",
   "execution_count": 64,
   "metadata": {},
   "outputs": [],
   "source": [
    "scaled_samples = (samples + 1)/(2)"
   ]
  },
  {
   "cell_type": "code",
   "execution_count": 65,
   "metadata": {},
   "outputs": [
    {
     "name": "stderr",
     "output_type": "stream",
     "text": [
      "logp = -2.822, ||grad|| = 1.203e-05: 100%|██████████| 13/13 [00:00<00:00, 1369.17it/s]  \n",
      "Multiprocess sampling (2 chains in 2 jobs)\n",
      "CompoundStep\n",
      ">Metropolis: [beta]\n",
      ">Metropolis: [alpha]\n",
      "Sampling 2 chains: 100%|██████████| 3000/3000 [00:00<00:00, 3002.36draws/s]\n",
      "The estimated number of effective samples is smaller than 200 for some parameters.\n"
     ]
    }
   ],
   "source": [
    "with pm.Model() as beta_model:\n",
    "    alpha_dist = pm.Uniform('alpha',lower=1.0, upper=7.0)\n",
    "    beta_dist = pm.Uniform('beta',lower=1.0, upper=7.0)\n",
    "    observed = pm.Beta('obs',alpha=alpha_dist,beta=beta_dist,\n",
    "                         observed=scaled_samples)\n",
    "    map_estimate = pm.find_MAP(model=beta_model)\n",
    "\n",
    "    # Using Metropolis Hastings Sampling\n",
    "    step = pm.Metropolis()\n",
    "    \n",
    "    # Sample from the posterior using the sampling method\n",
    "    beta_trace = pm.sample(N_SAMPLES, step=step, njobs=2)"
   ]
  },
  {
   "cell_type": "code",
   "execution_count": 48,
   "metadata": {},
   "outputs": [],
   "source": [
    "# Extract the alpha and beta samples\n",
    "alpha_samples = beta_trace[\"alpha\"][300:, None]\n",
    "beta_samples = beta_trace[\"beta\"][300:, None]"
   ]
  },
  {
   "cell_type": "code",
   "execution_count": 49,
   "metadata": {},
   "outputs": [
    {
     "data": {
      "image/png": "[encoded data removed]",
      "text/plain": [
       "<Figure size 1152x720 with 2 Axes>"
      ]
     },
     "metadata": {
      "needs_background": "light"
     },
     "output_type": "display_data"
    }
   ],
   "source": [
    "plt.figure(figsize=(16, 10))\n",
    "\n",
    "plt.subplot(211)\n",
    "plt.title(r\"\"\"Distribution of $\\alpha$ with %d samples\"\"\" % alpha_samples.shape[0])\n",
    "\n",
    "plt.hist(alpha_samples, histtype='stepfilled', \n",
    "         color = 'darkred', bins=30, alpha=0.8, density=True);\n",
    "plt.ylabel('Probability Density')\n",
    "\n",
    "\n",
    "plt.subplot(212)\n",
    "plt.title(r\"\"\"Distribution of $\\beta$ with %d samples\"\"\" % beta_samples.shape[0])\n",
    "plt.hist(beta_samples, histtype='stepfilled', \n",
    "         color = 'darkblue', bins=30, alpha=0.8, density=True)\n",
    "plt.ylabel('Probability Density');"
   ]
  },
  {
   "cell_type": "code",
   "execution_count": 76,
   "metadata": {},
   "outputs": [],
   "source": [
    "def bayesian_beta(samples,loc=-1,scale=2,n_samples=1000):\n",
    "    # known scaling\n",
    "    scaled_samples = (samples - loc)/(scale)\n",
    "    with pm.Model() as beta_model:\n",
    "        alpha_dist = pm.Uniform('alpha',lower=1.0, upper=7.0)\n",
    "        beta_dist = pm.Uniform('beta',lower=1.0, upper=7.0)\n",
    "        observed = pm.Beta('obs',alpha=alpha_dist,beta=beta_dist,\n",
    "                             observed=scaled_samples)\n",
    "        #map_estimate = pm.find_MAP(model=beta_model)\n",
    "\n",
    "        # Using Metropolis Hastings Sampling\n",
    "        step = pm.Metropolis()\n",
    "\n",
    "        # Sample from the posterior using the sampling method\n",
    "        beta_trace = pm.sample(n_samples, step=step, njobs=4,progressbar=False,cores=4)\n",
    "    return beta_model,beta_trace"
   ]
  },
  {
   "cell_type": "code",
   "execution_count": null,
   "metadata": {},
   "outputs": [],
   "source": [
    "from collections import defaultdict\n",
    "\n",
    "def run_ppc(trace, samples=100, model=None):\n",
    "    \"\"\"Generate Posterior Predictive samples from a model given a trace.\n",
    "    \"\"\"\n",
    "    if model is None:\n",
    "         model = pm.modelcontext(model)\n",
    "\n",
    "    ppc = defaultdict(list)\n",
    "    for idx in np.random.randint(0, len(trace), samples):\n",
    "        param = trace[idx]\n",
    "        for obs in model.observed_RVs:\n",
    "            ppc[obs.name].append(obs.distribution.random(point=param))\n",
    "\n",
    "    return ppc"
   ]
  },
  {
   "cell_type": "code",
   "execution_count": null,
   "metadata": {},
   "outputs": [],
   "source": [
    "predictions = np.array(run_ppc(beta_trace,samples=100,model=beta_model)['obs'])\n",
    "plt.hist(np.reshape(predictions,(-1,1)))"
   ]
  },
  {
   "cell_type": "code",
   "execution_count": 74,
   "metadata": {},
   "outputs": [],
   "source": [
    "f1 = lambda x,y: -x*y + 5*x**2 + 2*x \n",
    "# concave function in x\n",
    "f1_mean = lambda x,y: np.mean(f1(x,y),axis=0)"
   ]
  },
  {
   "cell_type": "code",
   "execution_count": null,
   "metadata": {},
   "outputs": [],
   "source": [
    "new_res = minimize(f1_mean,res.x,args=(predictions*2-1))\n",
    "new_res.x"
   ]
  },
  {
   "cell_type": "markdown",
   "metadata": {},
   "source": [
    "## Compare SAA with Bayes"
   ]
  },
  {
   "cell_type": "code",
   "execution_count": 71,
   "metadata": {},
   "outputs": [],
   "source": [
    "df = pd.DataFrame(columns=['method','N','x_star'])"
   ]
  },
  {
   "cell_type": "code",
   "execution_count": 72,
   "metadata": {},
   "outputs": [],
   "source": [
    "n_trials = 5\n",
    "N = [10,20,50]"
   ]
  },
  {
   "cell_type": "code",
   "execution_count": 77,
   "metadata": {},
   "outputs": [
    {
     "name": "stderr",
     "output_type": "stream",
     "text": [
      "Multiprocess sampling (4 chains in 4 jobs)\n",
      "CompoundStep\n",
      ">Metropolis: [beta]\n",
      ">Metropolis: [alpha]\n",
      "The number of effective samples is smaller than 10% for some parameters.\n",
      "Multiprocess sampling (4 chains in 4 jobs)\n",
      "CompoundStep\n",
      ">Metropolis: [beta]\n",
      ">Metropolis: [alpha]\n",
      "The estimated number of effective samples is smaller than 200 for some parameters.\n",
      "Multiprocess sampling (4 chains in 4 jobs)\n",
      "CompoundStep\n",
      ">Metropolis: [beta]\n",
      ">Metropolis: [alpha]\n",
      "The estimated number of effective samples is smaller than 200 for some parameters.\n",
      "Multiprocess sampling (4 chains in 4 jobs)\n",
      "CompoundStep\n",
      ">Metropolis: [beta]\n",
      ">Metropolis: [alpha]\n",
      "The estimated number of effective samples is smaller than 200 for some parameters.\n",
      "Multiprocess sampling (4 chains in 4 jobs)\n",
      "CompoundStep\n",
      ">Metropolis: [beta]\n",
      ">Metropolis: [alpha]\n",
      "The number of effective samples is smaller than 10% for some parameters.\n",
      "Multiprocess sampling (4 chains in 4 jobs)\n",
      "CompoundStep\n",
      ">Metropolis: [beta]\n",
      ">Metropolis: [alpha]\n",
      "The number of effective samples is smaller than 10% for some parameters.\n",
      "Multiprocess sampling (4 chains in 4 jobs)\n",
      "CompoundStep\n",
      ">Metropolis: [beta]\n",
      ">Metropolis: [alpha]\n",
      "The number of effective samples is smaller than 10% for some parameters.\n",
      "Multiprocess sampling (4 chains in 4 jobs)\n",
      "CompoundStep\n",
      ">Metropolis: [beta]\n",
      ">Metropolis: [alpha]\n",
      "The estimated number of effective samples is smaller than 200 for some parameters.\n",
      "Multiprocess sampling (4 chains in 4 jobs)\n",
      "CompoundStep\n",
      ">Metropolis: [beta]\n",
      ">Metropolis: [alpha]\n",
      "The estimated number of effective samples is smaller than 200 for some parameters.\n",
      "Multiprocess sampling (4 chains in 4 jobs)\n",
      "CompoundStep\n",
      ">Metropolis: [beta]\n",
      ">Metropolis: [alpha]\n",
      "The estimated number of effective samples is smaller than 200 for some parameters.\n",
      "Multiprocess sampling (4 chains in 4 jobs)\n",
      "CompoundStep\n",
      ">Metropolis: [beta]\n",
      ">Metropolis: [alpha]\n",
      "The estimated number of effective samples is smaller than 200 for some parameters.\n",
      "Multiprocess sampling (4 chains in 4 jobs)\n",
      "CompoundStep\n",
      ">Metropolis: [beta]\n",
      ">Metropolis: [alpha]\n",
      "The number of effective samples is smaller than 10% for some parameters.\n",
      "Multiprocess sampling (4 chains in 4 jobs)\n",
      "CompoundStep\n",
      ">Metropolis: [beta]\n",
      ">Metropolis: [alpha]\n",
      "The number of effective samples is smaller than 10% for some parameters.\n",
      "Multiprocess sampling (4 chains in 4 jobs)\n",
      "CompoundStep\n",
      ">Metropolis: [beta]\n",
      ">Metropolis: [alpha]\n",
      "The number of effective samples is smaller than 10% for some parameters.\n",
      "Multiprocess sampling (4 chains in 4 jobs)\n",
      "CompoundStep\n",
      ">Metropolis: [beta]\n",
      ">Metropolis: [alpha]\n",
      "The number of effective samples is smaller than 10% for some parameters.\n"
     ]
    }
   ],
   "source": [
    "for i in range(n_trials):\n",
    "    for j in range(len(N)):\n",
    "        samples = Y1.rvs(N[j])\n",
    "        # compute saa\n",
    "    \n",
    "        res = minimize(f1_mean,0.0,args=(samples))\n",
    "        results ={'method':'SAA','N':N[j],'x_star':res.x[0]}\n",
    "        df = df.append(results,ignore_index=True)\n",
    "\n",
    "        # compute bayesuian\n",
    "        model,trace = bayesian_beta(samples)\n",
    "        #new_samples = np.array(run_ppc(trace, samples=200, model=model)['obs'])\n",
    "        obs = sampling.sample_ppc(beta_trace,samples=50,model=beta_model,size=500,progressbar=False)\n",
    "        new_samples = np.reshape(obs['obs'],-1,1)\n",
    "        res = minimize(f1_mean,res.x,args=(new_samples*2-1))\n",
    "        \n",
    "        results ={'method':'Bayes','N':N[j],'x_star':res.x[0]}\n",
    "        df = df.append(results,ignore_index=True)"
   ]
  },
  {
   "cell_type": "code",
   "execution_count": null,
   "metadata": {},
   "outputs": [],
   "source": [
    "#df.to_csv(\"bayes_results.csv\")"
   ]
  },
  {
   "cell_type": "code",
   "execution_count": 78,
   "metadata": {},
   "outputs": [],
   "source": [
    "samples = Y1.rvs(7000)\n",
    "# compute saa\n",
    "res = minimize(f1_mean,0.0,args=(samples))\n",
    "true = res.x[0]"
   ]
  },
  {
   "cell_type": "code",
   "execution_count": 79,
   "metadata": {},
   "outputs": [],
   "source": [
    "results =[{'method':'True','N':n,'x_star':res.x[0]} for n in N]\n",
    "#df = df.append(results,ignore_index=True)"
   ]
  },
  {
   "cell_type": "code",
   "execution_count": 80,
   "metadata": {},
   "outputs": [],
   "source": [
    "df = df.append(results,ignore_index=True)"
   ]
  },
  {
   "cell_type": "code",
   "execution_count": 81,
   "metadata": {},
   "outputs": [
    {
     "name": "stderr",
     "output_type": "stream",
     "text": [
      "/home/harrison/.virtualenvs/python3/lib/python3.5/site-packages/scipy/stats/stats.py:1713: FutureWarning: Using a non-tuple sequence for multidimensional indexing is deprecated; use `arr[tuple(seq)]` instead of `arr[seq]`. In the future this will be interpreted as an array index, `arr[np.array(seq)]`, which will result either in an error or a different result.\n",
      "  return np.add.reduce(sorted[indexer] * weights, axis=axis) / sumval\n"
     ]
    },
    {
     "data": {
      "image/png": "[encoded data removed]",
      "text/plain": [
       "<Figure size 432x288 with 1 Axes>"
      ]
     },
     "metadata": {
      "needs_background": "light"
     },
     "output_type": "display_data"
    }
   ],
   "source": [
    "ax = sns.pointplot(x=\"N\", y=\"x_star\", hue=\"method\",data=df)"
   ]
  },
  {
   "cell_type": "code",
   "execution_count": 82,
   "metadata": {},
   "outputs": [],
   "source": [
    "samples = Y1.rvs(10000)\n",
    "func = lambda x: np.mean(f1(x,samples))\n",
    "df.loc[:,'expected_cost'] = df.loc[:,'x_star'].apply(func)"
   ]
  },
  {
   "cell_type": "code",
   "execution_count": 83,
   "metadata": {},
   "outputs": [
    {
     "data": {
      "image/png": "[encoded data removed]",
      "text/plain": [
       "<Figure size 432x288 with 1 Axes>"
      ]
     },
     "metadata": {
      "needs_background": "light"
     },
     "output_type": "display_data"
    }
   ],
   "source": [
    "ax = sns.pointplot(x=\"N\", y=\"expected_cost\", hue=\"method\",data=df)"
   ]
  },
  {
   "cell_type": "code",
   "execution_count": null,
   "metadata": {},
   "outputs": [],
   "source": []
  }
 ],
 "metadata": {
  "kernelspec": {
   "display_name": "Python 3",
   "language": "python",
   "name": "python3"
  },
  "language_info": {
   "codemirror_mode": {
    "name": "ipython",
    "version": 3
   },
   "file_extension": ".py",
   "mimetype": "text/x-python",
   "name": "python",
   "nbconvert_exporter": "python",
   "pygments_lexer": "ipython3",
   "version": "3.5.2"
  }
 },
 "nbformat": 4,
 "nbformat_minor": 2
}
