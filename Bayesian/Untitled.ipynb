{
 "cells": [
  {
   "cell_type": "code",
   "execution_count": 1,
   "metadata": {},
   "outputs": [
    {
     "name": "stderr",
     "output_type": "stream",
     "text": [
      "WARNING (theano.tensor.blas): Using NumPy C-API based implementation for BLAS functions.\n"
     ]
    }
   ],
   "source": [
    "import sys\n",
    "sys.path.insert(0, '../')\n",
    "from util import util\n",
    "import numpy as np\n",
    "import scipy.stats as st\n",
    "\n",
    "import matplotlib.pyplot as plt\n",
    "\n",
    "from scipy.optimize import minimize\n",
    "import pymc3 as pm\n",
    "import pandas as pd\n",
    "import seaborn as sns\n",
    "import pymc3.sampling as sampling"
   ]
  },
  {
   "cell_type": "markdown",
   "metadata": {},
   "source": [
    "## Portfolio optimisation"
   ]
  },
  {
   "cell_type": "markdown",
   "metadata": {},
   "source": [
    "Demiguel Nogalwes 2009 ran a model as followed:\n",
    "\n",
    "We will assume the true asset-return distribution is given as $$G = 99\\% \\times \\mathcal{N}(\\mu,\\Sigma) + 1\\% \\times D $$\n",
    "where $D = \\mathcal{N}(\\mu_d,\\Sigma_d)$ where $\\Sigma_d=\\Sigma$\n",
    "\n",
    "Lim et al used the follow model:\n",
    "$$ \\mathbf{X} \\sim \\mathcal{N}(\\mathbf{\\mu},\\mathbf{\\Sigma})$$\n",
    "\n",
    "</p>Given $N$ risky assets the mean variance portfolio is the solution to the problem \n",
    "$$\\min_w \\mathbf{w}^T\\hat{\\Sigma}\\mathbf{w} - \\frac{1}{\\gamma}\\hat{\\mathbf{\\mu}}^T\\mathbf{w}$$ \n",
    "$$s.t. \\mathbf{w}^T\\mathbf{e} = 1 $$</p>\n",
    "\n",
    "<p> We also seek to find the minimum-variance porfolio \n",
    "    $$\\min_w \\mathbf{w}^T\\hat{\\Sigma}\\mathbf{w}$$\n",
    "    $$s.t. \\mathbf{w}^T\\mathbf{e} = 1 $$</p>"
   ]
  },
  {
   "cell_type": "code",
   "execution_count": 2,
   "metadata": {},
   "outputs": [],
   "source": [
    "mu = np.array([26.11 , 25.21 , 28.90 , 28.68 , 24.18])*10e-4\n",
    "covar = np.array([[3.715 , 3.730 , 4.420 , 3.606 , 3.673],\n",
    "                 [3.730 , 3.908 , 4.943 , 3.732 , 3.916],\n",
    "                [4.420 , 4.943 , 8.885 , 4.378 , 5.010],\n",
    "                  [3.606 , 3.732 , 4.378 , 3.930 , 3.789],\n",
    "                  [3.673 , 3.916 , 5.010 , 3.789 , 4.027]])*10e-4\n",
    "model = st.multivariate_normal(mean=mu,cov=covar)"
   ]
  },
  {
   "cell_type": "code",
   "execution_count": 3,
   "metadata": {},
   "outputs": [],
   "source": [
    "def mean_variance(weights,mean,cov,gamma,average=False):\n",
    "    var = np.dot(np.dot(weights,cov_est),weights)\n",
    "    mean = 1.0/gamma*np.dot(mean,weights)\n",
    "    if average:\n",
    "        return np.mean(var-mean,axis=0)\n",
    "    else: \n",
    "        return var-mean"
   ]
  },
  {
   "cell_type": "code",
   "execution_count": 4,
   "metadata": {},
   "outputs": [],
   "source": [
    "def sum_weights(weights):\n",
    "    return np.sum(weights)-1"
   ]
  },
  {
   "cell_type": "code",
   "execution_count": 32,
   "metadata": {},
   "outputs": [],
   "source": [
    "init_weights = np.ones((5))/5\n",
    "gamma = [0.1,1.0,5.0,10]\n",
    "N = [50,100,200]\n",
    "constraints = [{'type':'eq','fun':sum_weights}]\n",
    "n_iter = 1000\n",
    "df = pd.DataFrame(columns=['w_star','method','gamma','N'])"
   ]
  },
  {
   "cell_type": "code",
   "execution_count": 33,
   "metadata": {},
   "outputs": [],
   "source": [
    "for j in range(len(gamma)):\n",
    "    for l in range(n_iter):\n",
    "        for i in range(len(N)):\n",
    "            samples = model.rvs(N[i])\n",
    "            cov_est = np.cov(samples.T)\n",
    "            mean_est = np.mean(samples,axis=0)\n",
    "            res = minimize(mean_variance,init_weights,args=(mean_est,cov_est,gamma[j],\n",
    "                                                            False),\n",
    "                          constraints=constraints,\n",
    "                          bounds=[(0,None)]*5)\n",
    "            results = {'w_star': res.x,'method':'SAA','gamma':gamma[j],'N':N[i]}\n",
    "            df = df.append(results,ignore_index=True)\n",
    "            \n",
    "            \n",
    "    res = minimize(mean_variance,init_weights,args=(mu,covar,gamma[j]),\n",
    "                          constraints=constraints,\n",
    "                          bounds=[(0,None)]*5)\n",
    "    results = {'w_star': res.x,'method':'True','gamma':gamma[j],'N':N[i]}\n",
    "    df = df.append(results,ignore_index=True)"
   ]
  },
  {
   "cell_type": "code",
   "execution_count": 34,
   "metadata": {},
   "outputs": [],
   "source": [
    "df['expected_return'] = df['w_star'].apply(lambda x:np.dot(mu,x))"
   ]
  },
  {
   "cell_type": "code",
   "execution_count": 35,
   "metadata": {},
   "outputs": [],
   "source": [
    "df.to_csv(\"portfolio_opt.csv\")"
   ]
  },
  {
   "cell_type": "code",
   "execution_count": 36,
   "metadata": {},
   "outputs": [],
   "source": [
    "df = pd.read_csv(\"portfolio_opt.csv\",index_col=0)"
   ]
  },
  {
   "cell_type": "code",
   "execution_count": 37,
   "metadata": {},
   "outputs": [
    {
     "data": {
      "text/html": [
       "<div>\n",
       "<style scoped>\n",
       "    .dataframe tbody tr th:only-of-type {\n",
       "        vertical-align: middle;\n",
       "    }\n",
       "\n",
       "    .dataframe tbody tr th {\n",
       "        vertical-align: top;\n",
       "    }\n",
       "\n",
       "    .dataframe thead th {\n",
       "        text-align: right;\n",
       "    }\n",
       "</style>\n",
       "<table border=\"1\" class=\"dataframe\">\n",
       "  <thead>\n",
       "    <tr style=\"text-align: right;\">\n",
       "      <th></th>\n",
       "      <th>w_star</th>\n",
       "      <th>method</th>\n",
       "      <th>gamma</th>\n",
       "      <th>N</th>\n",
       "      <th>expected_return</th>\n",
       "    </tr>\n",
       "  </thead>\n",
       "  <tbody>\n",
       "    <tr>\n",
       "      <th>3000</th>\n",
       "      <td>[3.97205465e-16 0.00000000e+00 2.40396728e-01 ...</td>\n",
       "      <td>True</td>\n",
       "      <td>0.1</td>\n",
       "      <td>200</td>\n",
       "      <td>0.028733</td>\n",
       "    </tr>\n",
       "    <tr>\n",
       "      <th>6001</th>\n",
       "      <td>[1.94289029e-16 0.00000000e+00 0.00000000e+00 ...</td>\n",
       "      <td>True</td>\n",
       "      <td>1.0</td>\n",
       "      <td>200</td>\n",
       "      <td>0.028680</td>\n",
       "    </tr>\n",
       "    <tr>\n",
       "      <th>9002</th>\n",
       "      <td>[3.60456875e-01 9.48441679e-02 4.33680869e-17 ...</td>\n",
       "      <td>True</td>\n",
       "      <td>5.0</td>\n",
       "      <td>200</td>\n",
       "      <td>0.027425</td>\n",
       "    </tr>\n",
       "    <tr>\n",
       "      <th>12003</th>\n",
       "      <td>[2.82611182e-01 2.26234045e-01 5.55111512e-17 ...</td>\n",
       "      <td>True</td>\n",
       "      <td>10.0</td>\n",
       "      <td>200</td>\n",
       "      <td>0.026257</td>\n",
       "    </tr>\n",
       "  </tbody>\n",
       "</table>\n",
       "</div>"
      ],
      "text/plain": [
       "                                                  w_star method  gamma    N  \\\n",
       "3000   [3.97205465e-16 0.00000000e+00 2.40396728e-01 ...   True    0.1  200   \n",
       "6001   [1.94289029e-16 0.00000000e+00 0.00000000e+00 ...   True    1.0  200   \n",
       "9002   [3.60456875e-01 9.48441679e-02 4.33680869e-17 ...   True    5.0  200   \n",
       "12003  [2.82611182e-01 2.26234045e-01 5.55111512e-17 ...   True   10.0  200   \n",
       "\n",
       "       expected_return  \n",
       "3000          0.028733  \n",
       "6001          0.028680  \n",
       "9002          0.027425  \n",
       "12003         0.026257  "
      ]
     },
     "execution_count": 37,
     "metadata": {},
     "output_type": "execute_result"
    }
   ],
   "source": [
    "df[df['method']=='True']"
   ]
  },
  {
   "cell_type": "code",
   "execution_count": 38,
   "metadata": {},
   "outputs": [],
   "source": [
    "gamma_df = df[df['gamma']==1]"
   ]
  },
  {
   "cell_type": "code",
   "execution_count": 39,
   "metadata": {},
   "outputs": [
    {
     "data": {
      "text/plain": [
       "[<matplotlib.lines.Line2D at 0x7f0629b364a8>]"
      ]
     },
     "execution_count": 39,
     "metadata": {},
     "output_type": "execute_result"
    },
    {
     "data": {
      "image/png": "[encoded data removed]",
      "text/plain": [
       "<Figure size 432x288 with 1 Axes>"
      ]
     },
     "metadata": {
      "needs_background": "light"
     },
     "output_type": "display_data"
    }
   ],
   "source": [
    "ax = sns.lineplot(x=gamma_df['N'], y=gamma_df['expected_return'], \n",
    "                  hue=gamma_df['method'])\n",
    "plt.plot(N,[gamma_df[gamma_df['method']=='True']['expected_return'].iloc[0]]*3)"
   ]
  },
  {
   "cell_type": "markdown",
   "metadata": {},
   "source": [
    "## Using Bayesian inference"
   ]
  },
  {
   "cell_type": "markdown",
   "metadata": {},
   "source": [
    "We use a normal-inversewishart prior on the mean and covariance of the multivariate gaussian.\n",
    "\n",
    "$$p(\\mu|\\Sigma)\\sim \\mathcal{N}(27*10^{-4},10^{-4}\\Sigma)$$\n",
    "$$p(\\Sigma)\\sim \\mathcal{W}^{-1}(\\mathbf{I},1)$$\n"
   ]
  },
  {
   "cell_type": "code",
   "execution_count": 40,
   "metadata": {},
   "outputs": [],
   "source": [
    "mu0 = np.array([27e-3]*5)\n",
    "m =1/10e-4\n",
    "Psi = np.eye(5)\n",
    "nu0 = 5"
   ]
  },
  {
   "cell_type": "code",
   "execution_count": 41,
   "metadata": {},
   "outputs": [],
   "source": [
    "n_iter=1000"
   ]
  },
  {
   "cell_type": "code",
   "execution_count": 42,
   "metadata": {},
   "outputs": [],
   "source": [
    "df = pd.read_csv(\"portfolio_opt.csv\",index_col=0)"
   ]
  },
  {
   "cell_type": "code",
   "execution_count": 44,
   "metadata": {},
   "outputs": [],
   "source": [
    "new_samples = []\n",
    "for j in range(len(gamma)):\n",
    "    for l in range(n_iter):\n",
    "        for i in range(len(N)):\n",
    "            n = N[i]\n",
    "            samples = model.rvs(n)\n",
    "            sample_mean = np.mean(samples,axis=0)\n",
    "            sample_cov = np.cov(samples.T)\n",
    "            posterior_sigma_scale = Psi+n*sample_cov+m*n/(n+m)*np.dot((sample_mean-mu0).T,\n",
    "                                                                  sample_mean-mu0)\n",
    "            posterior_sigma_nu = n+nu0\n",
    "            cov_array = []\n",
    "            mean_array = []\n",
    "            for k in range(2000):\n",
    "\n",
    "                cov_array.append(st.invwishart.rvs(\n",
    "                                scale=posterior_sigma_scale,\n",
    "                                df=posterior_sigma_nu))\n",
    "                posterior_mean_mu = (n*sample_mean+m*mu0)/(m+n)\n",
    "                #mean_wishart = posterior_sigma_scale/(posterior_sigma_nu-sample_mean.shape[0]-1)\n",
    "                posterior_mean_sigma = 1/(m+n)*cov_array[k]\n",
    "                mean_array.append(st.multivariate_normal.rvs(posterior_mean_mu,\n",
    "                                                            posterior_mean_sigma))\n",
    "            res = minimize(mean_variance,\n",
    "                            init_weights,\n",
    "                            args=(mean_array,\n",
    "                                  cov_array,\n",
    "                                    gamma[j],\n",
    "                                     True),\n",
    "                          constraints=constraints,\n",
    "                          bounds=[(0,None)]*5)\n",
    "            results = {'w_star': res.x,'method':'Bayesian','gamma':gamma[j],'N':N[i]}\n",
    "            df = df.append(results,ignore_index=True)\n",
    "            "
   ]
  },
  {
   "cell_type": "code",
   "execution_count": 53,
   "metadata": {},
   "outputs": [],
   "source": [
    "df['expected_return'] = df[df['method']=='Bayesian']['w_star'].apply(lambda x:np.dot(\n",
    "                                            mu,x))"
   ]
  },
  {
   "cell_type": "code",
   "execution_count": 55,
   "metadata": {},
   "outputs": [],
   "source": [
    "df.to_csv(\"portfolio_opt.csv\")"
   ]
  },
  {
   "cell_type": "code",
   "execution_count": 48,
   "metadata": {},
   "outputs": [],
   "source": [
    "gamma_df = df[df['gamma']==1]"
   ]
  },
  {
   "cell_type": "code",
   "execution_count": 49,
   "metadata": {},
   "outputs": [
    {
     "data": {
      "text/plain": [
       "[<matplotlib.lines.Line2D at 0x7f062995f9e8>]"
      ]
     },
     "execution_count": 49,
     "metadata": {},
     "output_type": "execute_result"
    },
    {
     "data": {
      "image/png": "[encoded data removed]",
      "text/plain": [
       "<Figure size 432x288 with 1 Axes>"
      ]
     },
     "metadata": {
      "needs_background": "light"
     },
     "output_type": "display_data"
    }
   ],
   "source": [
    "ax = sns.lineplot(x=gamma_df['N'], y=gamma_df['expected_return'], \n",
    "                  hue=gamma_df['method'])\n",
    "plt.plot(N,[gamma_df[gamma_df['method']=='True']['expected_return'].iloc[0]]*3)"
   ]
  },
  {
   "cell_type": "code",
   "execution_count": null,
   "metadata": {},
   "outputs": [],
   "source": [
    "np.dot(mu,df[df['method']=='Bayesian'].iloc[0]['w_star'])"
   ]
  },
  {
   "cell_type": "code",
   "execution_count": null,
   "metadata": {},
   "outputs": [],
   "source": [
    "df[df['method']=='Bayesian']['w_star']"
   ]
  },
  {
   "cell_type": "code",
   "execution_count": null,
   "metadata": {},
   "outputs": [],
   "source": []
  }
 ],
 "metadata": {
  "kernelspec": {
   "display_name": "Python 3",
   "language": "python",
   "name": "python3"
  },
  "language_info": {
   "codemirror_mode": {
    "name": "ipython",
    "version": 3
   },
   "file_extension": ".py",
   "mimetype": "text/x-python",
   "name": "python",
   "nbconvert_exporter": "python",
   "pygments_lexer": "ipython3",
   "version": "3.5.2"
  }
 },
 "nbformat": 4,
 "nbformat_minor": 2
}
