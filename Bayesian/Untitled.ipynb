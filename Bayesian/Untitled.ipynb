{
 "cells": [
  {
   "cell_type": "code",
   "execution_count": 1,
   "metadata": {},
   "outputs": [
    {
     "name": "stderr",
     "output_type": "stream",
     "text": [
      "WARNING (theano.tensor.blas): Using NumPy C-API based implementation for BLAS functions.\n"
     ]
    }
   ],
   "source": [
    "import sys\n",
    "sys.path.insert(0, '../')\n",
    "from util import util\n",
    "import numpy as np\n",
    "import scipy.stats as st\n",
    "\n",
    "import matplotlib.pyplot as plt\n",
    "\n",
    "from scipy.optimize import minimize\n",
    "import pymc3 as pm"
   ]
  },
  {
   "cell_type": "code",
   "execution_count": 2,
   "metadata": {},
   "outputs": [],
   "source": [
    "x = np.arange (-1, 1, 0.01)\n",
    "\n",
    "#Y1 = st.beta(a = 2,b=5,loc=-1,scale=2)\n",
    "Y1 = st.beta(a = 2,b=5,loc=-1,scale=2)"
   ]
  },
  {
   "cell_type": "code",
   "execution_count": 3,
   "metadata": {},
   "outputs": [],
   "source": [
    "samples = Y1.rvs(50)\n",
    "N_SAMPLES = 5000\n",
    "sample_min = np.min(samples)\n",
    "sample_max = np.max(samples)"
   ]
  },
  {
   "cell_type": "code",
   "execution_count": 4,
   "metadata": {},
   "outputs": [
    {
     "name": "stderr",
     "output_type": "stream",
     "text": [
      "logp = 59.998, ||grad|| = 146.86: 100%|██████████| 28/28 [00:00<00:00, 929.61it/s]   \n",
      "Multiprocess sampling (2 chains in 2 jobs)\n",
      "CompoundStep\n",
      ">Metropolis: [max]\n",
      ">Metropolis: [min]\n",
      ">Metropolis: [beta]\n",
      ">Metropolis: [alpha]\n",
      "100%|██████████| 5500/5500 [00:11<00:00, 462.29it/s]\n",
      "The gelman-rubin statistic is larger than 1.4 for some parameters. The sampler did not converge.\n",
      "The estimated number of effective samples is smaller than 200 for some parameters.\n"
     ]
    }
   ],
   "source": [
    "with pm.Model() as beta_model:\n",
    "    #mu = pm.Uniform('mu',lower=0.0, upper=1.0)\n",
    "    #sigma_upper = np.sqrt(mu*(1-mu))\n",
    "    #sigma = pm.Uniform('sigma',lower=0,upper=sigma_upper)\n",
    "    #observed = pm.Beta('obs',mu=mu,sd=sigma,observed=standard)\n",
    "    alpha_dist = pm.Gamma('alpha',alpha=7.5,beta=0.5)\n",
    "    beta_dist = pm.Gamma('beta',alpha=3.0,beta=0.5)\n",
    "    min_sample = pm.InverseGamma('min',alpha=3.0)\n",
    "    max_sample = pm.InverseGamma('max',alpha=3.0)\n",
    "    \n",
    "    loc = sample_min - min_sample\n",
    "    scale = (sample_max + max_sample) - (sample_min-min_sample)\n",
    "    standard = (samples - loc)/scale\n",
    "    observed = pm.Beta('obs',alpha=alpha_dist,beta=beta_dist,\n",
    "                         observed=standard)\n",
    "    map_estimate = pm.find_MAP(model=beta_model)\n",
    "\n",
    "    # Using Metropolis Hastings Sampling\n",
    "    step = pm.Metropolis()\n",
    "    \n",
    "    # Sample from the posterior using the sampling method\n",
    "    beta_trace = pm.sample(5000, step=step, njobs=2);"
   ]
  },
  {
   "cell_type": "code",
   "execution_count": 5,
   "metadata": {},
   "outputs": [],
   "source": [
    "# Extract the alpha and beta samples\n",
    "alpha_samples = beta_trace[\"min\"][5000:, None]\n",
    "beta_samples = beta_trace[\"max\"][5000:, None]"
   ]
  },
  {
   "cell_type": "code",
   "execution_count": 6,
   "metadata": {},
   "outputs": [
    {
     "data": {
      "text/plain": [
       "{'alpha': array(inf),\n",
       " 'alpha_log__': array(2831.43925697),\n",
       " 'beta': array(0.),\n",
       " 'beta_log__': array(-1613.31645125),\n",
       " 'max': array(0.),\n",
       " 'max_log__': array(-2206.48243755),\n",
       " 'min': array(inf),\n",
       " 'min_log__': array(2949.14462271)}"
      ]
     },
     "execution_count": 6,
     "metadata": {},
     "output_type": "execute_result"
    }
   ],
   "source": [
    "map_estimate"
   ]
  },
  {
   "cell_type": "code",
   "execution_count": 7,
   "metadata": {},
   "outputs": [
    {
     "data": {
      "image/png": "[encoded data removed]",
      "text/plain": [
       "<Figure size 1152x720 with 2 Axes>"
      ]
     },
     "metadata": {},
     "output_type": "display_data"
    }
   ],
   "source": [
    "plt.figure(figsize=(16, 10))\n",
    "\n",
    "plt.subplot(211)\n",
    "plt.title(r\"\"\"Distribution of $\\alpha$ with %d samples\"\"\" % N_SAMPLES)\n",
    "\n",
    "plt.hist(alpha_samples, histtype='stepfilled', \n",
    "         color = 'darkred', bins=30, alpha=0.8, density=True);\n",
    "plt.ylabel('Probability Density')\n",
    "\n",
    "\n",
    "plt.subplot(212)\n",
    "plt.title(r\"\"\"Distribution of $\\beta$ with %d samples\"\"\" % N_SAMPLES)\n",
    "plt.hist(beta_samples, histtype='stepfilled', \n",
    "         color = 'darkblue', bins=30, alpha=0.8, density=True)\n",
    "plt.ylabel('Probability Density');"
   ]
  },
  {
   "cell_type": "code",
   "execution_count": null,
   "metadata": {},
   "outputs": [],
   "source": [
    "print(alpha_samples.mean())\n",
    "beta_samples.mean()"
   ]
  },
  {
   "cell_type": "code",
   "execution_count": null,
   "metadata": {},
   "outputs": [],
   "source": [
    "mu_est = alpha_samples.mean()\n",
    "sigma_est = beta_samples.mean()"
   ]
  },
  {
   "cell_type": "code",
   "execution_count": null,
   "metadata": {},
   "outputs": [],
   "source": [
    "kappa = mu_est*(1-mu_est)/sigma_est**2 - 1\n",
    "alpha = mu_est*kappa\n",
    "beta = (1-mu_est)*kappa"
   ]
  },
  {
   "cell_type": "code",
   "execution_count": null,
   "metadata": {},
   "outputs": [],
   "source": [
    "# plot the pdf within the range\n",
    "x = np.arange (-1, 1, 0.01)\n",
    "plt.plot(x,st.beta(alpha_samples.mean(),beta_samples.mean(),loc=-1,scale=2).pdf(x))"
   ]
  },
  {
   "cell_type": "code",
   "execution_count": null,
   "metadata": {},
   "outputs": [],
   "source": [
    "beta"
   ]
  },
  {
   "cell_type": "code",
   "execution_count": null,
   "metadata": {},
   "outputs": [],
   "source": []
  }
 ],
 "metadata": {
  "kernelspec": {
   "display_name": "Python 2",
   "language": "python",
   "name": "python2"
  },
  "language_info": {
   "codemirror_mode": {
    "name": "ipython",
    "version": 2
   },
   "file_extension": ".py",
   "mimetype": "text/x-python",
   "name": "python",
   "nbconvert_exporter": "python",
   "pygments_lexer": "ipython2",
   "version": "2.7.12"
  }
 },
 "nbformat": 4,
 "nbformat_minor": 2
}
