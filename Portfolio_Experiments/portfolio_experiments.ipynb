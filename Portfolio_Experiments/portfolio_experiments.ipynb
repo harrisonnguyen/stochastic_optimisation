{
 "cells": [
  {
   "cell_type": "code",
   "execution_count": 1,
   "metadata": {},
   "outputs": [
    {
     "name": "stderr",
     "output_type": "stream",
     "text": [
      "WARNING (theano.tensor.blas): Using NumPy C-API based implementation for BLAS functions.\n"
     ]
    }
   ],
   "source": [
    "import sys\n",
    "sys.path.insert(0, '../')\n",
    "import numpy as np\n",
    "import matplotlib.pyplot as plt\n",
    "import scipy.stats as st\n",
    "from util import optimiser\n",
    "from util import distribution\n",
    "\n",
    "import pandas as pd\n",
    "import seaborn as sns"
   ]
  },
  {
   "cell_type": "markdown",
   "metadata": {},
   "source": [
    "\n",
    "Demiguel Nogalwes 2009 ran a model as follows:\n",
    "\n",
    "they assume the true asset-return distribution is given as $$\\mathbf{X} = 99\\% \\times \\mathcal{N}(\\mu,\\Sigma) + 1\\% \\times D $$\n",
    "where $D = \\mathcal{N}(\\mu_d,\\Sigma_d)$ where $\\Sigma_d=\\Sigma$\n",
    "\n",
    "Lim et al used the follow model:\n",
    "$$ \\mathbf{X} \\sim \\mathcal{N}(\\mathbf{\\mu},\\mathbf{\\Sigma})$$\n",
    "\n",
    "\n",
    "In our scenario, we assume the stocks are generated from a multivariate T distribution\n",
    "$$ \\mathbf{X} \\sim \\mathcal{t}_{\\nu}(\\mathbf{\\mu},\\mathbf{\\Sigma})$$\n",
    "</p>Given $N$ risky assets the mean variance portfolio is the solution to the problem \n",
    "$$\\min_w \\mathbf{w}^T\\hat{\\Sigma}\\mathbf{w} - \\frac{1}{\\gamma}\\hat{\\mathbf{\\mu}}^T\\mathbf{w}$$ \n",
    "$$s.t. \\mathbf{w}^T\\mathbf{e} = 1 $$</p>\n",
    "\n",
    "<p> We also seek to find the minimum-variance porfolio \n",
    "    $$\\min_w \\mathbf{w}^T\\hat{\\Sigma}\\mathbf{w}$$\n",
    "    $$s.t. \\mathbf{w}^T\\mathbf{e} = 1 $$</p>"
   ]
  },
  {
   "cell_type": "code",
   "execution_count": 2,
   "metadata": {},
   "outputs": [],
   "source": [
    "# this is the mean and covariance of the multivariate distribution\n",
    "mu = np.array([26.11 , 25.21 , 28.90 , 28.68 , 24.18])\n",
    "covar = np.array([[3.715 , 3.730 , 4.420 , 3.606 , 3.673],\n",
    "                 [3.730 , 3.908 , 4.943 , 3.732 , 3.916],\n",
    "                [4.420 , 4.943 , 8.885 , 4.378 , 5.010],\n",
    "                  [3.606 , 3.732 , 4.378 , 3.930 , 3.789],\n",
    "                  [3.673 , 3.916 , 5.010 , 3.789 , 4.027]])\n",
    "model = st.multivariate_normal(mean=mu,cov=covar)\n",
    "#model = distribution.Multivariate_T(mu,covar,3.5)"
   ]
  },
  {
   "cell_type": "code",
   "execution_count": 3,
   "metadata": {},
   "outputs": [],
   "source": [
    "def mean_variance(weights,mean,cov,gamma,average=False):\n",
    "    var = np.dot(np.dot(weights,cov),weights)\n",
    "    mean = 1.0/gamma*np.dot(mean,weights)\n",
    "    if average:\n",
    "        return np.mean(var-mean,axis=0)\n",
    "    else: \n",
    "        return var-mean"
   ]
  },
  {
   "cell_type": "code",
   "execution_count": 4,
   "metadata": {},
   "outputs": [],
   "source": [
    "def compute_mean_variance(samples,values=()):\n",
    "    if not values:\n",
    "        mean = np.mean(samples,axis=0)\n",
    "        cov = np.cov(samples.T)\n",
    "        return (mean,cov)\n",
    "    else:\n",
    "        return values"
   ]
  },
  {
   "cell_type": "code",
   "execution_count": 5,
   "metadata": {},
   "outputs": [],
   "source": [
    "def sum_weights(weights):\n",
    "    return np.sum(weights)-1"
   ]
  },
  {
   "cell_type": "code",
   "execution_count": 6,
   "metadata": {},
   "outputs": [],
   "source": [
    "def fix_string(x):\n",
    "    return np.array([float(z) for z in x[1:-1].split(' ') if z is not \"\"])"
   ]
  },
  {
   "cell_type": "code",
   "execution_count": 10,
   "metadata": {},
   "outputs": [],
   "source": [
    "init_weights = np.ones((5))/5\n",
    "gamma = [20]\n",
    "N = [20,50,100,200]\n",
    "constraints = [{'type':'eq','fun':sum_weights}]\n",
    "try:\n",
    "    df = pd.read_csv('portfolio_opt.csv',index_col=0)\n",
    "    df['w_star'] = df['w_star'].apply(lambda x:fix_string(x))\n",
    "except:\n",
    "    df = pd.DataFrame(columns=['w_star','method','gamma','N'])"
   ]
  },
  {
   "cell_type": "code",
   "execution_count": 11,
   "metadata": {},
   "outputs": [],
   "source": [
    "n_iter = 500"
   ]
  },
  {
   "cell_type": "code",
   "execution_count": 12,
   "metadata": {},
   "outputs": [],
   "source": [
    "N = [50,100,200]"
   ]
  },
  {
   "cell_type": "code",
   "execution_count": 14,
   "metadata": {},
   "outputs": [],
   "source": [
    "saa = optimiser.SAA(objective_function=mean_variance,\n",
    "                    constraints=constraints,\n",
    "                    bounds=[(0,None)]*5,\n",
    "                   helper_func=compute_mean_variance)\n",
    "bagger = optimiser.BaggingSolver(iterations=200,\n",
    "                                 objective_function=mean_variance,\n",
    "                                constraints=constraints,\n",
    "                                 bounds=[(0,None)]*5,\n",
    "                                helper_func=compute_mean_variance)\n",
    "mle = optimiser.MLESolver(distribution.Multivariate_T,\n",
    "                         objective_function=mean_variance,\n",
    "                                constraints=constraints,\n",
    "                                 bounds=[(0,None)]*5,\n",
    "                                helper_func=compute_mean_variance)"
   ]
  },
  {
   "cell_type": "code",
   "execution_count": 15,
   "metadata": {},
   "outputs": [],
   "source": [
    "methods = [saa,bagger,mle]"
   ]
  },
  {
   "cell_type": "code",
   "execution_count": 16,
   "metadata": {},
   "outputs": [],
   "source": [
    "for j in range(len(gamma)):\n",
    "    for l in range(n_iter):\n",
    "        for i in range(len(N)):\n",
    "            samples = model.rvs(N[i])\n",
    "            for ele in methods:\n",
    "            \n",
    "                w_star = ele.solve(samples,init_weights,additional_args=(gamma[j],False))   \n",
    "                results = {'w_star': w_star,'method':ele.__str__(),'gamma':gamma[j],'N':N[i]}\n",
    "                df = df.append(results,ignore_index=True)\n",
    "            \n",
    "    w_star = ele.solve(samples,\n",
    "                       init_weights,\n",
    "                       additional_args=(gamma[j],False),\n",
    "                       values=(mu,covar))         \n",
    "    results = {'w_star': w_star,'method':'True','gamma':gamma[j],'N':N[i]}\n",
    "    df = df.append(results,ignore_index=True)"
   ]
  },
  {
   "cell_type": "code",
   "execution_count": 17,
   "metadata": {},
   "outputs": [],
   "source": [
    "df['expected_return'] = df['w_star'].apply(lambda x:np.dot(mu,x))\n",
    "df['mean_variance'] = df.apply(\n",
    "                        lambda x:mean_variance(\n",
    "                            x['w_star'],\n",
    "                            mu,\n",
    "                            covar,\n",
    "                            x['gamma']),\n",
    "                        axis=1)"
   ]
  },
  {
   "cell_type": "markdown",
   "metadata": {},
   "source": [
    "For MLE of the multivariate T, the EM algorithm is used for fixed degree of freedom\n",
    "https://niasra.uow.edu.au/content/groups/public/@web/@inf/@math/documents/mm/uow236236.pdf"
   ]
  },
  {
   "cell_type": "code",
   "execution_count": 18,
   "metadata": {},
   "outputs": [
    {
     "name": "stderr",
     "output_type": "stream",
     "text": [
      "/home/harrison/.virtualenvs/python3/lib/python3.5/site-packages/scipy/stats/stats.py:1713: FutureWarning: Using a non-tuple sequence for multidimensional indexing is deprecated; use `arr[tuple(seq)]` instead of `arr[seq]`. In the future this will be interpreted as an array index, `arr[np.array(seq)]`, which will result either in an error or a different result.\n",
      "  return np.add.reduce(sorted[indexer] * weights, axis=axis) / sumval\n"
     ]
    },
    {
     "data": {
      "text/plain": [
       "Text(0.5, 1.0, 'Gamma = 20')"
      ]
     },
     "execution_count": 18,
     "metadata": {},
     "output_type": "execute_result"
    },
    {
     "data": {
      "image/png": "[encoded data removed]",
      "text/plain": [
       "<Figure size 432x288 with 1 Axes>"
      ]
     },
     "metadata": {
      "needs_background": "light"
     },
     "output_type": "display_data"
    }
   ],
   "source": [
    "gamma_df = df[df['gamma']==20.0]\n",
    "ax = sns.lineplot(x=gamma_df['N'], y=gamma_df['mean_variance'], \n",
    "                  hue=gamma_df['method'])\n",
    "plt.plot(N,[gamma_df[gamma_df['method']=='True']['mean_variance'].iloc[0]]*len(N),color='red')\n",
    "plt.title(\"Gamma = 20\")"
   ]
  },
  {
   "cell_type": "code",
   "execution_count": null,
   "metadata": {},
   "outputs": [],
   "source": [
    "df.to_csv(\"normal_dist_portfolio_opt.csv\")"
   ]
  },
  {
   "cell_type": "code",
   "execution_count": null,
   "metadata": {},
   "outputs": [],
   "source": []
  }
 ],
 "metadata": {
  "kernelspec": {
   "display_name": "Python 3",
   "language": "python",
   "name": "python3"
  },
  "language_info": {
   "codemirror_mode": {
    "name": "ipython",
    "version": 3
   },
   "file_extension": ".py",
   "mimetype": "text/x-python",
   "name": "python",
   "nbconvert_exporter": "python",
   "pygments_lexer": "ipython3",
   "version": "3.5.2"
  }
 },
 "nbformat": 4,
 "nbformat_minor": 2
}
