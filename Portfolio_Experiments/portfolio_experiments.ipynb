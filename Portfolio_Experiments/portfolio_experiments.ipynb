{
 "cells": [
  {
   "cell_type": "code",
   "execution_count": 1,
   "metadata": {},
   "outputs": [],
   "source": [
    "import sys\n",
    "sys.path.insert(0, '../')\n",
    "import numpy as np\n",
    "import matplotlib.pyplot as plt\n",
    "import scipy.stats as st\n",
    "from util import optimiser\n",
    "from util import distribution\n",
    "\n",
    "import pandas as pd\n",
    "import seaborn as sns"
   ]
  },
  {
   "cell_type": "markdown",
   "metadata": {},
   "source": [
    "\n",
    "Demiguel Nogalwes 2009 ran a model as follows:\n",
    "\n",
    "they assume the true asset-return distribution is given as $$\\mathbf{X} = 99\\% \\times \\mathcal{N}(\\mu,\\Sigma) + 1\\% \\times D $$\n",
    "where $D = \\mathcal{N}(\\mu_d,\\Sigma_d)$ where $\\Sigma_d=\\Sigma$\n",
    "\n",
    "Lim et al used the follow model:\n",
    "$$ \\mathbf{X} \\sim \\mathcal{N}(\\mathbf{\\mu},\\mathbf{\\Sigma})$$\n",
    "\n",
    "\n",
    "In our scenario, we assume the stocks are generated from a multivariate T distribution\n",
    "$$ \\mathbf{X} \\sim \\mathcal{t}_{\\nu}(\\mathbf{\\mu},\\mathbf{\\Sigma})$$\n",
    "</p>Given $N$ risky assets the mean variance portfolio is the solution to the problem \n",
    "$$\\min_w \\mathbf{w}^T\\hat{\\Sigma}\\mathbf{w} - \\frac{1}{\\gamma}\\hat{\\mathbf{\\mu}}^T\\mathbf{w}$$ \n",
    "$$s.t. \\mathbf{w}^T\\mathbf{e} = 1 $$</p>\n",
    "\n",
    "<p> We also seek to find the minimum-variance porfolio \n",
    "    $$\\min_w \\mathbf{w}^T\\hat{\\Sigma}\\mathbf{w}$$\n",
    "    $$s.t. \\mathbf{w}^T\\mathbf{e} = 1 $$</p>"
   ]
  },
  {
   "cell_type": "code",
   "execution_count": 2,
   "metadata": {},
   "outputs": [],
   "source": [
    "# this is the mean and covariance of the multivariate distribution\n",
    "mu = np.array([26.11 , 25.21 , 28.90 , 28.68 , 24.18])\n",
    "covar = np.array([[3.715 , 3.730 , 4.420 , 3.606 , 3.673],\n",
    "                 [3.730 , 3.908 , 4.943 , 3.732 , 3.916],\n",
    "                [4.420 , 4.943 , 8.885 , 4.378 , 5.010],\n",
    "                  [3.606 , 3.732 , 4.378 , 3.930 , 3.789],\n",
    "                  [3.673 , 3.916 , 5.010 , 3.789 , 4.027]])\n",
    "#model = st.multivariate_normal(mean=mu,cov=covar)\n",
    "model = distribution.Multivariate_T(mu,covar,3.5)"
   ]
  },
  {
   "cell_type": "code",
   "execution_count": 3,
   "metadata": {},
   "outputs": [],
   "source": [
    "def mean_variance(weights,mean,cov,gamma,average=False):\n",
    "    var = np.dot(np.dot(weights,cov),weights)\n",
    "    mean = 1.0/gamma*np.dot(mean,weights)\n",
    "    if average:\n",
    "        return np.mean(var-mean,axis=0)\n",
    "    else: \n",
    "        return var-mean"
   ]
  },
  {
   "cell_type": "code",
   "execution_count": 4,
   "metadata": {},
   "outputs": [],
   "source": [
    "def compute_mean_variance(samples,values=()):\n",
    "    if not values:\n",
    "        mean = np.mean(samples,axis=0)\n",
    "        cov = np.cov(samples.T)\n",
    "        return (mean,cov)\n",
    "    else:\n",
    "        return values"
   ]
  },
  {
   "cell_type": "code",
   "execution_count": 5,
   "metadata": {},
   "outputs": [],
   "source": [
    "def sum_weights(weights):\n",
    "    return np.sum(weights)-1"
   ]
  },
  {
   "cell_type": "code",
   "execution_count": 6,
   "metadata": {},
   "outputs": [],
   "source": [
    "init_weights = np.ones((5))/5\n",
    "gamma = [10]\n",
    "N = [20,50,100,200]\n",
    "constraints = [{'type':'eq','fun':sum_weights}]\n",
    "df = pd.DataFrame(columns=['w_star','method','gamma','N'])"
   ]
  },
  {
   "cell_type": "code",
   "execution_count": 16,
   "metadata": {},
   "outputs": [],
   "source": [
    "n_iter = 200"
   ]
  },
  {
   "cell_type": "code",
   "execution_count": 21,
   "metadata": {},
   "outputs": [],
   "source": [
    "N = [20,50,100,200]"
   ]
  },
  {
   "cell_type": "code",
   "execution_count": 8,
   "metadata": {},
   "outputs": [],
   "source": [
    "saa = optimiser.SAA(objective_function=mean_variance,\n",
    "                    constraints=constraints,\n",
    "                    bounds=[(0,None)]*5,\n",
    "                   helper_func=compute_mean_variance)\n",
    "bagger = optimiser.BaggingSolver(iterations=200,\n",
    "                                 objective_function=mean_variance,\n",
    "                                constraints=constraints,\n",
    "                                 bounds=[(0,None)]*5,\n",
    "                                helper_func=compute_mean_variance)"
   ]
  },
  {
   "cell_type": "code",
   "execution_count": 9,
   "metadata": {},
   "outputs": [],
   "source": [
    "methods = [saa,bagger]"
   ]
  },
  {
   "cell_type": "code",
   "execution_count": 22,
   "metadata": {},
   "outputs": [],
   "source": [
    "for j in range(len(gamma)):\n",
    "    for l in range(n_iter):\n",
    "        for i in range(len(N)):\n",
    "            samples = model.rvs(N[i])\n",
    "            for ele in methods:\n",
    "            \n",
    "                w_star = ele.solve(samples,init_weights,additional_args=(gamma[j],False))   \n",
    "                results = {'w_star': w_star,'method':ele.__str__(),'gamma':gamma[j],'N':N[i]}\n",
    "                df = df.append(results,ignore_index=True)\n",
    "            \n",
    "    w_star = ele.solve(samples,\n",
    "                       init_weights,\n",
    "                       additional_args=(gamma[j],False),\n",
    "                       values=(mu,covar))         \n",
    "    results = {'w_star': w_star,'method':'True','gamma':gamma[j],'N':N[i]}\n",
    "    df = df.append(results,ignore_index=True)"
   ]
  },
  {
   "cell_type": "code",
   "execution_count": 23,
   "metadata": {},
   "outputs": [],
   "source": [
    "df['expected_return'] = df['w_star'].apply(lambda x:np.dot(mu,x))\n",
    "df['mean_variance'] = df.apply(lambda x:mean_variance(x['w_star'],\n",
    "                                                      mu,\n",
    "                                                      covar,\n",
    "                                                      x['gamma']),\n",
    "                                axis=1)"
   ]
  },
  {
   "cell_type": "code",
   "execution_count": 24,
   "metadata": {},
   "outputs": [],
   "source": [
    "gamma_df = df[df['gamma']==10.0]"
   ]
  },
  {
   "cell_type": "code",
   "execution_count": 27,
   "metadata": {},
   "outputs": [
    {
     "data": {
      "text/plain": [
       "[<matplotlib.lines.Line2D at 0x7fd840e42790>]"
      ]
     },
     "execution_count": 27,
     "metadata": {},
     "output_type": "execute_result"
    },
    {
     "data": {
      "image/png": "[encoded data removed]",
      "text/plain": [
       "<Figure size 432x288 with 1 Axes>"
      ]
     },
     "metadata": {},
     "output_type": "display_data"
    }
   ],
   "source": [
    "ax = sns.lineplot(x=gamma_df['N'], y=gamma_df['mean_variance'], \n",
    "                  hue=gamma_df['method'])\n",
    "plt.plot(N,[gamma_df[gamma_df['method']=='True']['mean_variance'].iloc[0]]*len(N),color='g')"
   ]
  },
  {
   "cell_type": "code",
   "execution_count": null,
   "metadata": {},
   "outputs": [],
   "source": []
  }
 ],
 "metadata": {
  "kernelspec": {
   "display_name": "Python 3",
   "language": "python",
   "name": "python3"
  },
  "language_info": {
   "codemirror_mode": {
    "name": "ipython",
    "version": 2
   },
   "file_extension": ".py",
   "mimetype": "text/x-python",
   "name": "python",
   "nbconvert_exporter": "python",
   "pygments_lexer": "ipython2",
   "version": "2.7.12"
  }
 },
 "nbformat": 4,
 "nbformat_minor": 2
}
